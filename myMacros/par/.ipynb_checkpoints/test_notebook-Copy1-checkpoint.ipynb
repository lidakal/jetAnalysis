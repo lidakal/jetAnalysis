{
 "cells": [
  {
   "cell_type": "code",
   "execution_count": 1,
   "metadata": {
    "collapsed": false
   },
   "outputs": [
    {
     "name": "stdout",
     "output_type": "stream",
     "text": [
      "\u001b[?1034h"
     ]
    }
   ],
   "source": [
    "std::string histfile = \"subset_par_sub.root\";\n",
    "TFile *fin = new TFile(histfile.c_str());"
   ]
  },
  {
   "cell_type": "code",
   "execution_count": 2,
   "metadata": {
    "collapsed": false
   },
   "outputs": [
    {
     "name": "stdout",
     "output_type": "stream",
     "text": [
      "TFile**\t\tsubset_par_sub.root\t\n",
      " TFile*\t\tsubset_par_sub.root\t\n",
      "  KEY: TH2F\th_qcd_zgB;1\tparpt vs zg, b jets\n",
      "  KEY: TH2F\th_qcd_rgB;1\tparpt vs rg, b jets\n",
      "  KEY: TH2F\th_qcd_zgC;1\tparpt vs zg, c jets\n",
      "  KEY: TH2F\th_qcd_rgC;1\tparpt vs rg, c jets\n",
      "  KEY: TH2F\th_qcd_zgL;1\tparpt vs zg, l jets\n",
      "  KEY: TH2F\th_qcd_rgL;1\tparpt vs rg, l jets\n",
      "  KEY: TH2F\th_bJet_zgB;1\tparpt vs zg, b jets\n",
      "  KEY: TH2F\th_bJet_rgB;1\tparpt vs rg, b jets\n",
      "  KEY: TH2F\th_bJet_zgC;1\tparpt vs zg, c jets\n",
      "  KEY: TH2F\th_bJet_rgC;1\tparpt vs rg, c jets\n",
      "  KEY: TH2F\th_bJet_zgL;1\tparpt vs zg, l jets\n",
      "  KEY: TH2F\th_bJet_rgL;1\tparpt vs rg, l jets\n"
     ]
    }
   ],
   "source": [
    "fin->ls()"
   ]
  },
  {
   "cell_type": "code",
   "execution_count": 3,
   "metadata": {
    "collapsed": false
   },
   "outputs": [],
   "source": [
    "TH2F *h2d = (TH2F *) fin->Get(\"h_bJet_rgB\");"
   ]
  },
  {
   "cell_type": "code",
   "execution_count": 4,
   "metadata": {
    "collapsed": true
   },
   "outputs": [],
   "source": [
    "TCanvas *c = new TCanvas(\"c\", \"\", 600, 600);"
   ]
  },
  {
   "cell_type": "code",
   "execution_count": 5,
   "metadata": {
    "collapsed": true
   },
   "outputs": [],
   "source": [
    "h2d = (TH2F *) fin->Get(\"h_qcd_rgL\");"
   ]
  },
  {
   "cell_type": "code",
   "execution_count": 6,
   "metadata": {
    "collapsed": false,
    "scrolled": true
   },
   "outputs": [
    {
     "data": {
      "image/png": "[encoded data removed]",
      "text/plain": [
       "<IPython.core.display.Image object>"
      ]
     },
     "metadata": {},
     "output_type": "display_data"
    }
   ],
   "source": [
    "h2d->Draw(\"COLZ\");\n",
    "c->Draw();"
   ]
  },
  {
   "cell_type": "code",
   "execution_count": null,
   "metadata": {
    "collapsed": true
   },
   "outputs": [],
   "source": []
  }
 ],
 "metadata": {
  "kernelspec": {
   "display_name": "ROOT C++",
   "language": "c++",
   "name": "root"
  },
  "language_info": {
   "codemirror_mode": "text/x-c++src",
   "file_extension": ".C",
   "mimetype": " text/x-c++src",
   "name": "c++"
  }
 },
 "nbformat": 4,
 "nbformat_minor": 2
}
