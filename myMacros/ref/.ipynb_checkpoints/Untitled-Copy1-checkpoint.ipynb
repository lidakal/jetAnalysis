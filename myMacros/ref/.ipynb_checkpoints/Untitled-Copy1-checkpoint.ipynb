{
 "cells": [
  {
   "cell_type": "code",
   "execution_count": null,
   "metadata": {
    "collapsed": false
   },
   "outputs": [],
   "source": [
    "TFile *fin = new TFile(\"ref_sub.root\");"
   ]
  },
  {
   "cell_type": "code",
   "execution_count": null,
   "metadata": {
    "collapsed": false
   },
   "outputs": [],
   "source": [
    "TH2F *h2d = (TH2F *) fin->Get(\"h_incl_zgB\");"
   ]
  },
  {
   "cell_type": "code",
   "execution_count": null,
   "metadata": {
    "collapsed": true
   },
   "outputs": [],
   "source": [
    "TCanvas *c = new TCanvas(\"c\", \"\", 600, 600);"
   ]
  },
  {
   "cell_type": "code",
   "execution_count": null,
   "metadata": {
    "collapsed": false
   },
   "outputs": [],
   "source": [
    "TH1F *h1d =(TH1F *) h2d->ProjectionX(\"h1d\", 0, 5);\n",
    "h1d->GetXaxis()->SetCanExtend(true);"
   ]
  },
  {
   "cell_type": "code",
   "execution_count": null,
   "metadata": {
    "collapsed": true
   },
   "outputs": [],
   "source": [
    "h1d->GetXaxis()->SetRange(0, h1d->GetXaxis()->GetNbins());"
   ]
  },
  {
   "cell_type": "markdown",
   "metadata": {},
   "source": [
    "Find what is the maximum pt for a given bin."
   ]
  },
  {
   "cell_type": "code",
   "execution_count": null,
   "metadata": {
    "collapsed": true
   },
   "outputs": [],
   "source": [
    "int lastbin = 5;"
   ]
  },
  {
   "cell_type": "code",
   "execution_count": null,
   "metadata": {
    "collapsed": false
   },
   "outputs": [],
   "source": [
    "cout << h2d->GetYaxis()->GetBinUpEdge(lastbin);"
   ]
  },
  {
   "cell_type": "markdown",
   "metadata": {},
   "source": [
    "Find what is the bin for a given pt."
   ]
  },
  {
   "cell_type": "code",
   "execution_count": null,
   "metadata": {
    "collapsed": true
   },
   "outputs": [],
   "source": [
    "float maxpt = 150;"
   ]
  },
  {
   "cell_type": "code",
   "execution_count": null,
   "metadata": {
    "collapsed": false
   },
   "outputs": [],
   "source": [
    "cout << h2d->GetYaxis()->FindBin(maxpt);"
   ]
  },
  {
   "cell_type": "code",
   "execution_count": null,
   "metadata": {
    "collapsed": false
   },
   "outputs": [],
   "source": [
    "h1d->SetMarkerStyle(kFullCircle);\n",
    "h1d->Draw();\n",
    "c->Draw();"
   ]
  },
  {
   "cell_type": "code",
   "execution_count": 22,
   "metadata": {
    "collapsed": false
   },
   "outputs": [
    {
     "name": "stdout",
     "output_type": "stream",
     "text": [
      "7.01007"
     ]
    }
   ],
   "source": [
    "cout << h1d->GetBinError(0);"
   ]
  },
  {
   "cell_type": "code",
   "execution_count": 11,
   "metadata": {
    "collapsed": false
   },
   "outputs": [],
   "source": [
    "h1d->GetXaxis()->SetCanExtend(true);\n",
    "h1d->GetXaxis()->SetRange(0, h1d->GetNbinsX());"
   ]
  },
  {
   "cell_type": "code",
   "execution_count": 12,
   "metadata": {
    "collapsed": true
   },
   "outputs": [],
   "source": [
    "h1d->Draw()"
   ]
  },
  {
   "cell_type": "code",
   "execution_count": 13,
   "metadata": {
    "collapsed": false
   },
   "outputs": [
    {
     "data": {
      "image/png": "[encoded data removed]",
      "text/plain": [
       "<IPython.core.display.Image object>"
      ]
     },
     "metadata": {},
     "output_type": "display_data"
    }
   ],
   "source": [
    "c->Draw()"
   ]
  },
  {
   "cell_type": "code",
   "execution_count": 15,
   "metadata": {
    "collapsed": false
   },
   "outputs": [
    {
     "name": "stderr",
     "output_type": "stream",
     "text": [
      "\u001b[1minput_line_68:2:33: \u001b[0m\u001b[0;1;31merror: \u001b[0m\u001b[1mno matching conversion for functional-style cast from 'float' to 'std::string' (aka 'basic_string<char>')\u001b[0m\n",
      " std::string title = \"max = \" + std::string(maxpt);\n",
      "\u001b[0;1;32m                                ^~~~~~~~~~~~~~~~~\n",
      "\u001b[0m\u001b[1m/build/cmsbld/auto-builds/CMSSW_9_4_9-slc7_amd64_gcc630/build/CMSSW_9_4_9-build/slc7_amd64_gcc630/external/gcc/6.3.0/bin/../lib/gcc/x86_64-unknown-linux-gnu/6.3.0/../../../../include/c++/6.3.0/bits/basic_string.h:389:7: \u001b[0m\u001b[0;1;30mnote: \u001b[0mcandidate constructor not viable: no known conversion from 'float' to 'const std::allocator<char>' for 1st argument\u001b[0m\n",
      "      basic_string(const _Alloc& __a) _GLIBCXX_NOEXCEPT\n",
      "\u001b[0;1;32m      ^\n",
      "\u001b[0m\u001b[1m/build/cmsbld/auto-builds/CMSSW_9_4_9-slc7_amd64_gcc630/build/CMSSW_9_4_9-build/slc7_amd64_gcc630/external/gcc/6.3.0/bin/../lib/gcc/x86_64-unknown-linux-gnu/6.3.0/../../../../include/c++/6.3.0/bits/basic_string.h:397:7: \u001b[0m\u001b[0;1;30mnote: \u001b[0mcandidate constructor not viable: no known conversion from 'float' to 'const std::__cxx11::basic_string<char>' for 1st argument\u001b[0m\n",
      "      basic_string(const basic_string& __str)\n",
      "\u001b[0;1;32m      ^\n",
      "\u001b[0m\u001b[1m/build/cmsbld/auto-builds/CMSSW_9_4_9-slc7_amd64_gcc630/build/CMSSW_9_4_9-build/slc7_amd64_gcc630/external/gcc/6.3.0/bin/../lib/gcc/x86_64-unknown-linux-gnu/6.3.0/../../../../include/c++/6.3.0/bits/basic_string.h:454:7: \u001b[0m\u001b[0;1;30mnote: \u001b[0mcandidate constructor not viable: no known conversion from 'float' to 'const char *' for 1st argument\u001b[0m\n",
      "      basic_string(const _CharT* __s, const _Alloc& __a = _Alloc())\n",
      "\u001b[0;1;32m      ^\n",
      "\u001b[0m\u001b[1m/build/cmsbld/auto-builds/CMSSW_9_4_9-slc7_amd64_gcc630/build/CMSSW_9_4_9-build/slc7_amd64_gcc630/external/gcc/6.3.0/bin/../lib/gcc/x86_64-unknown-linux-gnu/6.3.0/../../../../include/c++/6.3.0/bits/basic_string.h:476:7: \u001b[0m\u001b[0;1;30mnote: \u001b[0mcandidate constructor not viable: no known conversion from 'float' to 'std::__cxx11::basic_string<char>' for 1st argument\u001b[0m\n",
      "      basic_string(basic_string&& __str) noexcept\n",
      "\u001b[0;1;32m      ^\n",
      "\u001b[0m\u001b[1m/build/cmsbld/auto-builds/CMSSW_9_4_9-slc7_amd64_gcc630/build/CMSSW_9_4_9-build/slc7_amd64_gcc630/external/gcc/6.3.0/bin/../lib/gcc/x86_64-unknown-linux-gnu/6.3.0/../../../../include/c++/6.3.0/bits/basic_string.h:503:7: \u001b[0m\u001b[0;1;30mnote: \u001b[0mcandidate constructor not viable: no known conversion from 'float' to 'initializer_list<char>' for 1st argument\u001b[0m\n",
      "      basic_string(initializer_list<_CharT> __l, const _Alloc& __a = _Alloc())\n",
      "\u001b[0;1;32m      ^\n",
      "\u001b[0m\u001b[1m/build/cmsbld/auto-builds/CMSSW_9_4_9-slc7_amd64_gcc630/build/CMSSW_9_4_9-build/slc7_amd64_gcc630/external/gcc/6.3.0/bin/../lib/gcc/x86_64-unknown-linux-gnu/6.3.0/../../../../include/c++/6.3.0/bits/basic_string.h:549:9: \u001b[0m\u001b[0;1;30mnote: \u001b[0mcandidate constructor template not viable: requires at least 2 arguments, but 1 was provided\u001b[0m\n",
      "        basic_string(_InputIterator __beg, _InputIterator __end,\n",
      "\u001b[0;1;32m        ^\n",
      "\u001b[0m\u001b[1m/build/cmsbld/auto-builds/CMSSW_9_4_9-slc7_amd64_gcc630/build/CMSSW_9_4_9-build/slc7_amd64_gcc630/external/gcc/6.3.0/bin/../lib/gcc/x86_64-unknown-linux-gnu/6.3.0/../../../../include/c++/6.3.0/bits/basic_string.h:380:7: \u001b[0m\u001b[0;1;30mnote: \u001b[0mcandidate constructor not viable: requires 0 arguments, but 1 was provided\u001b[0m\n",
      "      basic_string()\n",
      "\u001b[0;1;32m      ^\n",
      "\u001b[0m\u001b[1m/build/cmsbld/auto-builds/CMSSW_9_4_9-slc7_amd64_gcc630/build/CMSSW_9_4_9-build/slc7_amd64_gcc630/external/gcc/6.3.0/bin/../lib/gcc/x86_64-unknown-linux-gnu/6.3.0/../../../../include/c++/6.3.0/bits/basic_string.h:507:7: \u001b[0m\u001b[0;1;30mnote: \u001b[0mcandidate constructor not viable: requires 2 arguments, but 1 was provided\u001b[0m\n",
      "      basic_string(const basic_string& __str, const _Alloc& __a)\n",
      "\u001b[0;1;32m      ^\n",
      "\u001b[0m\u001b[1m/build/cmsbld/auto-builds/CMSSW_9_4_9-slc7_amd64_gcc630/build/CMSSW_9_4_9-build/slc7_amd64_gcc630/external/gcc/6.3.0/bin/../lib/gcc/x86_64-unknown-linux-gnu/6.3.0/../../../../include/c++/6.3.0/bits/basic_string.h:511:7: \u001b[0m\u001b[0;1;30mnote: \u001b[0mcandidate constructor not viable: requires 2 arguments, but 1 was provided\u001b[0m\n",
      "      basic_string(basic_string&& __str, const _Alloc& __a)\n",
      "\u001b[0;1;32m      ^\n",
      "\u001b[0m\u001b[1m/build/cmsbld/auto-builds/CMSSW_9_4_9-slc7_amd64_gcc630/build/CMSSW_9_4_9-build/slc7_amd64_gcc630/external/gcc/6.3.0/bin/../lib/gcc/x86_64-unknown-linux-gnu/6.3.0/../../../../include/c++/6.3.0/bits/basic_string.h:410:7: \u001b[0m\u001b[0;1;30mnote: \u001b[0mcandidate constructor not viable: requires at least 2 arguments, but 1 was provided\u001b[0m\n",
      "      basic_string(const basic_string& __str, size_type __pos,\n",
      "\u001b[0;1;32m      ^\n",
      "\u001b[0m\u001b[1m/build/cmsbld/auto-builds/CMSSW_9_4_9-slc7_amd64_gcc630/build/CMSSW_9_4_9-build/slc7_amd64_gcc630/external/gcc/6.3.0/bin/../lib/gcc/x86_64-unknown-linux-gnu/6.3.0/../../../../include/c++/6.3.0/bits/basic_string.h:444:7: \u001b[0m\u001b[0;1;30mnote: \u001b[0mcandidate constructor not viable: requires at least 2 arguments, but 1 was provided\u001b[0m\n",
      "      basic_string(const _CharT* __s, size_type __n,\n",
      "\u001b[0;1;32m      ^\n",
      "\u001b[0m\u001b[1m/build/cmsbld/auto-builds/CMSSW_9_4_9-slc7_amd64_gcc630/build/CMSSW_9_4_9-build/slc7_amd64_gcc630/external/gcc/6.3.0/bin/../lib/gcc/x86_64-unknown-linux-gnu/6.3.0/../../../../include/c++/6.3.0/bits/basic_string.h:464:7: \u001b[0m\u001b[0;1;30mnote: \u001b[0mcandidate constructor not viable: requires at least 2 arguments, but 1 was provided\u001b[0m\n",
      "      basic_string(size_type __n, _CharT __c, const _Alloc& __a = _Alloc())\n",
      "\u001b[0;1;32m      ^\n",
      "\u001b[0m\u001b[1m/build/cmsbld/auto-builds/CMSSW_9_4_9-slc7_amd64_gcc630/build/CMSSW_9_4_9-build/slc7_amd64_gcc630/external/gcc/6.3.0/bin/../lib/gcc/x86_64-unknown-linux-gnu/6.3.0/../../../../include/c++/6.3.0/bits/basic_string.h:426:7: \u001b[0m\u001b[0;1;30mnote: \u001b[0mcandidate constructor not viable: requires 4 arguments, but 1 was provided\u001b[0m\n",
      "      basic_string(const basic_string& __str, size_type __pos,\n",
      "\u001b[0;1;32m      ^\n",
      "\u001b[0m\u001b[1minput_line_68:2:14: \u001b[0m\u001b[0;1;31merror: \u001b[0m\u001b[1mredefinition of 'title' with a different type: 'std::string' (aka 'basic_string<char>') vs 'std::string &' (aka 'basic_string<char> &')\u001b[0m\n",
      " std::string title = \"max = \" + std::string(maxpt);\n",
      "\u001b[0;1;32m             ^\n",
      "\u001b[0m\u001b[1minput_line_66:2:14: \u001b[0m\u001b[0;1;30mnote: \u001b[0mprevious definition is here\u001b[0m\n",
      " std::string title = \"max = \" + str(maxpt);\n",
      "\u001b[0;1;32m             ^\n",
      "\u001b[0m"
     ]
    }
   ],
   "source": [
    "std::string title = \"max = \" + std::string(maxpt);"
   ]
  },
  {
   "cell_type": "code",
   "execution_count": null,
   "metadata": {
    "collapsed": true
   },
   "outputs": [],
   "source": [
    "cout << title"
   ]
  },
  {
   "cell_type": "code",
   "execution_count": 1,
   "metadata": {
    "collapsed": false
   },
   "outputs": [
    {
     "name": "stdout",
     "output_type": "stream",
     "text": [
      "\u001b[?1034h"
     ]
    }
   ],
   "source": [
    "int a = 5;"
   ]
  },
  {
   "cell_type": "code",
   "execution_count": 17,
   "metadata": {
    "collapsed": false
   },
   "outputs": [
    {
     "name": "stderr",
     "output_type": "stream",
     "text": [
      "\u001b[1minput_line_71:2:3: \u001b[0m\u001b[0;1;31merror: \u001b[0m\u001b[1muse of undeclared identifier 'str'\u001b[0m\n",
      " (str(((*(int*)0x7f156cd59080))))\n",
      "\u001b[0;1;32m  ^\n",
      "\u001b[0m"
     ]
    }
   ],
   "source": [
    "str(a)"
   ]
  },
  {
   "cell_type": "code",
   "execution_count": 2,
   "metadata": {
    "collapsed": false
   },
   "outputs": [
    {
     "name": "stderr",
     "output_type": "stream",
     "text": [
      "\u001b[1minput_line_32:2:2: \u001b[0m\u001b[0;1;31merror: \u001b[0m\u001b[1mno matching conversion for C-style cast from 'int' to 'string' (aka 'basic_string<char>')\u001b[0m\n",
      " (string) a\n",
      "\u001b[0;1;32m ^~~~~~~~~~\n",
      "\u001b[0m\u001b[1m/build/cmsbld/auto-builds/CMSSW_9_4_9-slc7_amd64_gcc630/build/CMSSW_9_4_9-build/slc7_amd64_gcc630/external/gcc/6.3.0/bin/../lib/gcc/x86_64-unknown-linux-gnu/6.3.0/../../../../include/c++/6.3.0/bits/basic_string.h:389:7: \u001b[0m\u001b[0;1;30mnote: \u001b[0mcandidate constructor not viable: no known conversion from 'int' to 'const std::allocator<char>' for 1st argument\u001b[0m\n",
      "      basic_string(const _Alloc& __a) _GLIBCXX_NOEXCEPT\n",
      "\u001b[0;1;32m      ^\n",
      "\u001b[0m\u001b[1m/build/cmsbld/auto-builds/CMSSW_9_4_9-slc7_amd64_gcc630/build/CMSSW_9_4_9-build/slc7_amd64_gcc630/external/gcc/6.3.0/bin/../lib/gcc/x86_64-unknown-linux-gnu/6.3.0/../../../../include/c++/6.3.0/bits/basic_string.h:397:7: \u001b[0m\u001b[0;1;30mnote: \u001b[0mcandidate constructor not viable: no known conversion from 'int' to 'const std::__cxx11::basic_string<char>' for 1st argument\u001b[0m\n",
      "      basic_string(const basic_string& __str)\n",
      "\u001b[0;1;32m      ^\n",
      "\u001b[0m\u001b[1m/build/cmsbld/auto-builds/CMSSW_9_4_9-slc7_amd64_gcc630/build/CMSSW_9_4_9-build/slc7_amd64_gcc630/external/gcc/6.3.0/bin/../lib/gcc/x86_64-unknown-linux-gnu/6.3.0/../../../../include/c++/6.3.0/bits/basic_string.h:454:7: \u001b[0m\u001b[0;1;30mnote: \u001b[0mcandidate constructor not viable: no known conversion from 'int' to 'const char *' for 1st argument\u001b[0m\n",
      "      basic_string(const _CharT* __s, const _Alloc& __a = _Alloc())\n",
      "\u001b[0;1;32m      ^\n",
      "\u001b[0m\u001b[1m/build/cmsbld/auto-builds/CMSSW_9_4_9-slc7_amd64_gcc630/build/CMSSW_9_4_9-build/slc7_amd64_gcc630/external/gcc/6.3.0/bin/../lib/gcc/x86_64-unknown-linux-gnu/6.3.0/../../../../include/c++/6.3.0/bits/basic_string.h:476:7: \u001b[0m\u001b[0;1;30mnote: \u001b[0mcandidate constructor not viable: no known conversion from 'int' to 'std::__cxx11::basic_string<char>' for 1st argument\u001b[0m\n",
      "      basic_string(basic_string&& __str) noexcept\n",
      "\u001b[0;1;32m      ^\n",
      "\u001b[0m\u001b[1m/build/cmsbld/auto-builds/CMSSW_9_4_9-slc7_amd64_gcc630/build/CMSSW_9_4_9-build/slc7_amd64_gcc630/external/gcc/6.3.0/bin/../lib/gcc/x86_64-unknown-linux-gnu/6.3.0/../../../../include/c++/6.3.0/bits/basic_string.h:503:7: \u001b[0m\u001b[0;1;30mnote: \u001b[0mcandidate constructor not viable: no known conversion from 'int' to 'initializer_list<char>' for 1st argument\u001b[0m\n",
      "      basic_string(initializer_list<_CharT> __l, const _Alloc& __a = _Alloc())\n",
      "\u001b[0;1;32m      ^\n",
      "\u001b[0m\u001b[1m/build/cmsbld/auto-builds/CMSSW_9_4_9-slc7_amd64_gcc630/build/CMSSW_9_4_9-build/slc7_amd64_gcc630/external/gcc/6.3.0/bin/../lib/gcc/x86_64-unknown-linux-gnu/6.3.0/../../../../include/c++/6.3.0/bits/basic_string.h:549:9: \u001b[0m\u001b[0;1;30mnote: \u001b[0mcandidate constructor template not viable: requires at least 2 arguments, but 1 was provided\u001b[0m\n",
      "        basic_string(_InputIterator __beg, _InputIterator __end,\n",
      "\u001b[0;1;32m        ^\n",
      "\u001b[0m\u001b[1m/build/cmsbld/auto-builds/CMSSW_9_4_9-slc7_amd64_gcc630/build/CMSSW_9_4_9-build/slc7_amd64_gcc630/external/gcc/6.3.0/bin/../lib/gcc/x86_64-unknown-linux-gnu/6.3.0/../../../../include/c++/6.3.0/bits/basic_string.h:380:7: \u001b[0m\u001b[0;1;30mnote: \u001b[0mcandidate constructor not viable: requires 0 arguments, but 1 was provided\u001b[0m\n",
      "      basic_string()\n",
      "\u001b[0;1;32m      ^\n",
      "\u001b[0m\u001b[1m/build/cmsbld/auto-builds/CMSSW_9_4_9-slc7_amd64_gcc630/build/CMSSW_9_4_9-build/slc7_amd64_gcc630/external/gcc/6.3.0/bin/../lib/gcc/x86_64-unknown-linux-gnu/6.3.0/../../../../include/c++/6.3.0/bits/basic_string.h:507:7: \u001b[0m\u001b[0;1;30mnote: \u001b[0mcandidate constructor not viable: requires 2 arguments, but 1 was provided\u001b[0m\n",
      "      basic_string(const basic_string& __str, const _Alloc& __a)\n",
      "\u001b[0;1;32m      ^\n",
      "\u001b[0m\u001b[1m/build/cmsbld/auto-builds/CMSSW_9_4_9-slc7_amd64_gcc630/build/CMSSW_9_4_9-build/slc7_amd64_gcc630/external/gcc/6.3.0/bin/../lib/gcc/x86_64-unknown-linux-gnu/6.3.0/../../../../include/c++/6.3.0/bits/basic_string.h:511:7: \u001b[0m\u001b[0;1;30mnote: \u001b[0mcandidate constructor not viable: requires 2 arguments, but 1 was provided\u001b[0m\n",
      "      basic_string(basic_string&& __str, const _Alloc& __a)\n",
      "\u001b[0;1;32m      ^\n",
      "\u001b[0m\u001b[1m/build/cmsbld/auto-builds/CMSSW_9_4_9-slc7_amd64_gcc630/build/CMSSW_9_4_9-build/slc7_amd64_gcc630/external/gcc/6.3.0/bin/../lib/gcc/x86_64-unknown-linux-gnu/6.3.0/../../../../include/c++/6.3.0/bits/basic_string.h:410:7: \u001b[0m\u001b[0;1;30mnote: \u001b[0mcandidate constructor not viable: requires at least 2 arguments, but 1 was provided\u001b[0m\n",
      "      basic_string(const basic_string& __str, size_type __pos,\n",
      "\u001b[0;1;32m      ^\n",
      "\u001b[0m\u001b[1m/build/cmsbld/auto-builds/CMSSW_9_4_9-slc7_amd64_gcc630/build/CMSSW_9_4_9-build/slc7_amd64_gcc630/external/gcc/6.3.0/bin/../lib/gcc/x86_64-unknown-linux-gnu/6.3.0/../../../../include/c++/6.3.0/bits/basic_string.h:444:7: \u001b[0m\u001b[0;1;30mnote: \u001b[0mcandidate constructor not viable: requires at least 2 arguments, but 1 was provided\u001b[0m\n",
      "      basic_string(const _CharT* __s, size_type __n,\n",
      "\u001b[0;1;32m      ^\n",
      "\u001b[0m\u001b[1m/build/cmsbld/auto-builds/CMSSW_9_4_9-slc7_amd64_gcc630/build/CMSSW_9_4_9-build/slc7_amd64_gcc630/external/gcc/6.3.0/bin/../lib/gcc/x86_64-unknown-linux-gnu/6.3.0/../../../../include/c++/6.3.0/bits/basic_string.h:464:7: \u001b[0m\u001b[0;1;30mnote: \u001b[0mcandidate constructor not viable: requires at least 2 arguments, but 1 was provided\u001b[0m\n",
      "      basic_string(size_type __n, _CharT __c, const _Alloc& __a = _Alloc())\n",
      "\u001b[0;1;32m      ^\n",
      "\u001b[0m\u001b[1m/build/cmsbld/auto-builds/CMSSW_9_4_9-slc7_amd64_gcc630/build/CMSSW_9_4_9-build/slc7_amd64_gcc630/external/gcc/6.3.0/bin/../lib/gcc/x86_64-unknown-linux-gnu/6.3.0/../../../../include/c++/6.3.0/bits/basic_string.h:426:7: \u001b[0m\u001b[0;1;30mnote: \u001b[0mcandidate constructor not viable: requires 4 arguments, but 1 was provided\u001b[0m\n",
      "      basic_string(const basic_string& __str, size_type __pos,\n",
      "\u001b[0;1;32m      ^\n",
      "\u001b[0m"
     ]
    }
   ],
   "source": [
    "(string) a"
   ]
  },
  {
   "cell_type": "code",
   "execution_count": 3,
   "metadata": {
    "collapsed": false
   },
   "outputs": [
    {
     "name": "stdout",
     "output_type": "stream",
     "text": [
      "(float) 5.00000f\n"
     ]
    }
   ],
   "source": [
    "(float) a"
   ]
  },
  {
   "cell_type": "code",
   "execution_count": 6,
   "metadata": {
    "collapsed": false
   },
   "outputs": [
    {
     "name": "stdout",
     "output_type": "stream",
     "text": [
      "(std::string) \"14.200000\"\n"
     ]
    }
   ],
   "source": [
    "std::to_string(14.2)"
   ]
  },
  {
   "cell_type": "code",
   "execution_count": 7,
   "metadata": {
    "collapsed": false
   },
   "outputs": [
    {
     "name": "stderr",
     "output_type": "stream",
     "text": [
      "\u001b[1minput_line_39:2:19: \u001b[0m\u001b[0;1;31merror: \u001b[0m\u001b[1mtoo few arguments to function call, expected at least 2, have 1\u001b[0m\n",
      " std::sprintf(14.2)\n",
      "\u001b[0;1;32m ~~~~~~~~~~~~     ^\n",
      "\u001b[0m"
     ]
    }
   ],
   "source": [
    "std::sprintf(14.2)"
   ]
  },
  {
   "cell_type": "code",
   "execution_count": 1,
   "metadata": {
    "collapsed": false
   },
   "outputs": [
    {
     "name": "stdout",
     "output_type": "stream",
     "text": [
      "\u001b[?1034h5.12(int) 4\n"
     ]
    }
   ],
   "source": [
    "printf(\"%.2f\", 5.12)"
   ]
  },
  {
   "cell_type": "code",
   "execution_count": 2,
   "metadata": {
    "collapsed": true
   },
   "outputs": [],
   "source": [
    "float x = 1.234;"
   ]
  },
  {
   "cell_type": "code",
   "execution_count": 4,
   "metadata": {
    "collapsed": false
   },
   "outputs": [
    {
     "name": "stdout",
     "output_type": "stream",
     "text": [
      "(std::string) \"1\"\n"
     ]
    }
   ],
   "source": [
    "to_string((int)x)"
   ]
  },
  {
   "cell_type": "code",
   "execution_count": 1,
   "metadata": {
    "collapsed": false
   },
   "outputs": [
    {
     "name": "stdout",
     "output_type": "stream",
     "text": [
      "\u001b[?1034h"
     ]
    }
   ],
   "source": [
    "void test()\n",
    "{\n",
    "    TFile *fin = new TFile(\"ref_sub.root\");\n",
    "    TH2F *h2d = (TH2F *) fin->Get(\"h_incl_zgB_dynKt\");\n",
    "    \n",
    "    float maxpt = 120;\n",
    "    int lastbin = h2d->GetYaxis()->FindBin(maxpt);\n",
    "    maxpt = h2d->GetYaxis()->GetBinUpEdge(lastbin);\n",
    "    \n",
    "    TH1F *h1d =(TH1F *) h2d->ProjectionX(\"h1d\", 1, lastbin, \"e\");\n",
    "    h1d->GetXaxis()->SetCanExtend(true);\n",
    "    int nbins = h1d->GetXaxis()->GetNbins();\n",
    "    h1d->GetXaxis()->SetRange(0, h1d->GetXaxis()->GetNbins());\n",
    "    h1d->Scale(1/h1d->Integral(\"width\"));\n",
    "    h1d->SetFillColor(0);\n",
    "    h1d->SetLineColor(2);\n",
    "    \n",
    "    TCanvas *c = new TCanvas(\"c\", \"\", 600, 600);\n",
    "    h1d->Draw(\"hist same\");\n",
    "    h1d->Draw(\"e same\");\n",
    "    c->Draw();\n",
    "}"
   ]
  },
  {
   "cell_type": "code",
   "execution_count": 2,
   "metadata": {
    "collapsed": false
   },
   "outputs": [
    {
     "data": {
      "image/png": "[encoded data removed]",
      "text/plain": [
       "<IPython.core.display.Image object>"
      ]
     },
     "metadata": {},
     "output_type": "display_data"
    }
   ],
   "source": [
    "test()"
   ]
  },
  {
   "cell_type": "code",
   "execution_count": 3,
   "metadata": {
    "collapsed": true
   },
   "outputs": [],
   "source": []
  },
  {
   "cell_type": "code",
   "execution_count": 4,
   "metadata": {
    "collapsed": false
   },
   "outputs": [
    {
     "name": "stderr",
     "output_type": "stream",
     "text": [
      "\u001b[1minput_line_56:2:3: \u001b[0m\u001b[0;1;31merror: \u001b[0m\u001b[1mmember reference base type 'const char *' is not a structure or union\u001b[0m\n",
      " x.c_str();\n",
      "\u001b[0;1;32m ~^~~~~~\n",
      "\u001b[0m"
     ]
    }
   ],
   "source": []
  },
  {
   "cell_type": "code",
   "execution_count": 1,
   "metadata": {
    "collapsed": false
   },
   "outputs": [
    {
     "name": "stdout",
     "output_type": "stream",
     "text": [
      "\u001b[?1034h"
     ]
    }
   ],
   "source": [
    "#include \"Substructure.h\""
   ]
  },
  {
   "cell_type": "code",
   "execution_count": 2,
   "metadata": {
    "collapsed": true
   },
   "outputs": [],
   "source": [
    "Substructure s;"
   ]
  },
  {
   "cell_type": "code",
   "execution_count": 3,
   "metadata": {
    "collapsed": false
   },
   "outputs": [
    {
     "data": {
      "image/png": "[encoded data removed]",
      "text/plain": [
       "<IPython.core.display.Image object>"
      ]
     },
     "metadata": {},
     "output_type": "display_data"
    }
   ],
   "source": [
    "s.drawBvsL();"
   ]
  },
  {
   "cell_type": "code",
   "execution_count": 4,
   "metadata": {
    "collapsed": true
   },
   "outputs": [],
   "source": [
    "std::string finname = \"ref_sub.root\";"
   ]
  },
  {
   "cell_type": "code",
   "execution_count": 5,
   "metadata": {
    "collapsed": false
   },
   "outputs": [],
   "source": [
    "void test(bool qcd = true, bool zgORrg = true, bool dynKt = true)\n",
    "{\n",
    "    gStyle->SetOptTitle(1);\n",
    "                        \n",
    "    TFile *fin = new TFile(finname.c_str());\n",
    "    std::string hname1 = \"h\";\n",
    "    std::string hname2 = \"h\";\n",
    "    \n",
    "    std::string title2d = \"\";\n",
    "    std::string xtitle = \"\";\n",
    "    std::string ytitle2d = \"refpt (GeV)\";\n",
    "    std::string ytitle1d = \"1/N dN/d\";\n",
    "\n",
    "    if (qcd) {\n",
    "        hname1 += \"_incl\";\n",
    "        hname2 += \"_incl\";\n",
    "        title2d += \"qcdMC\";\n",
    "    } else {\n",
    "        hname1 += \"_bJet\";\n",
    "        hname2 += \"_bJet\";\n",
    "        title2d += \"bJetMC\";\n",
    "    }\n",
    "    if (zgORrg) { \n",
    "        hname1 += \"_zgB\";\n",
    "        hname2 += \"_zgL\";\n",
    "        title2d += \", refpt vs z_{g}\";\n",
    "        xtitle += \"z_{g}\";\n",
    "        ytitle1d += \"z_{g}\";\n",
    "    } else {\n",
    "        hname1 += \"_rgB\";\n",
    "        hname2 += \"_rgL\";\n",
    "        title2d += \", refpt vs R_{g}\";\n",
    "        xtitle += \"R_{g}\";\n",
    "        ytitle1d += \"R_{g}\";\n",
    "    }\n",
    "    if (dynKt) {\n",
    "        hname1 += \"_dynKt\";\n",
    "        hname2 += \"_dynKt\";\n",
    "        title2d += \", dynKt only\";\n",
    "    }\n",
    "    \n",
    "    // 2d histograms\n",
    "    float maxpt2d = 130;\n",
    "    \n",
    "    TH2F *h2d1 = (TH2F *) fin->Get(hname1.c_str());\n",
    "    TH2F *h2d2 = (TH2F *) fin->Get(hname2.c_str());\n",
    "    \n",
    "    TCanvas *c2d = new TCanvas(\"c2d\", \"\", 1000, 500);\n",
    "    c2d->Divide(2, 1);\n",
    "    \n",
    "    const int n = 2;\n",
    "    TH2F *hs2d[n] = {h2d1, h2d2};\n",
    "    \n",
    "    for (int ni = 0; ni < n; ni++) {\n",
    "        c2d->cd(ni + 1);\n",
    "        \n",
    "        TH2F *h = hs2d[ni];\n",
    "        h->GetXaxis()->SetCanExtend(true);\n",
    "        h->GetXaxis()->SetRange(0, h->GetXaxis()->GetNbins()); //include jets that don't have a proper substructure\n",
    "        h->GetYaxis()->SetRange(1, h->GetYaxis()->FindBin(maxpt2d));\n",
    "        h->SetXTitle(xtitle.c_str());\n",
    "        h->SetYTitle(ytitle2d.c_str());\n",
    "        h->SetTitle(\"b-jets\");\n",
    "        \n",
    "        h->Draw(\"COLZ\");\n",
    "    }\n",
    "    \n",
    "    TPaveText *pt = new TPaveText(.05,.1,.95,.8);\n",
    "    pt->Draw();\n",
    "    \n",
    "    \n",
    "    c2d->SetTitle(title2d.c_str());\n",
    "    c2d->Draw();\n",
    "    c2d->Show();\n",
    "                \n",
    "    \n",
    "    /*\n",
    "    \n",
    "    \n",
    "    \n",
    "    TH1F *h1d =(TH1F *) h2d->ProjectionX(\"h1d\", 0, 5, \"e\");\n",
    "    h1d->GetXaxis()->SetCanExtend(true);\n",
    "    int nbins = h1d->GetXaxis()->GetNbins();\n",
    "    std::cout << nbins << endl;\n",
    "    h1d->GetXaxis()->SetRange(0, h1d->GetXaxis()->GetNbins());\n",
    "    \n",
    "    TCanvas *c = new TCanvas(\"c\", \"\", 600, 600);\n",
    "    h1d->Draw(\"E\");\n",
    "    c->Draw();\n",
    "    */\n",
    "}"
   ]
  },
  {
   "cell_type": "code",
   "execution_count": 6,
   "metadata": {
    "collapsed": false
   },
   "outputs": [
    {
     "data": {
      "image/png": "[encoded data removed]",
      "text/plain": [
       "<IPython.core.display.Image object>"
      ]
     },
     "metadata": {},
     "output_type": "display_data"
    }
   ],
   "source": [
    "test()"
   ]
  },
  {
   "cell_type": "code",
   "execution_count": 7,
   "metadata": {
    "collapsed": true
   },
   "outputs": [],
   "source": [
    "std::string a = \"hi, you\";"
   ]
  },
  {
   "cell_type": "code",
   "execution_count": 8,
   "metadata": {
    "collapsed": true
   },
   "outputs": [],
   "source": [
    "#include <regex>\n",
    "\n",
    "std::string b = a;"
   ]
  },
  {
   "cell_type": "code",
   "execution_count": 12,
   "metadata": {
    "collapsed": false
   },
   "outputs": [],
   "source": [
    "b = std::regex_replace(b, std::regex(\"a\"), \"_\");"
   ]
  },
  {
   "cell_type": "code",
   "execution_count": 13,
   "metadata": {
    "collapsed": false
   },
   "outputs": [
    {
     "name": "stdout",
     "output_type": "stream",
     "text": [
      "(std::string &) \"hi_you\"\n"
     ]
    }
   ],
   "source": [
    "b"
   ]
  },
  {
   "cell_type": "code",
   "execution_count": 1,
   "metadata": {
    "collapsed": false
   },
   "outputs": [
    {
     "name": "stdout",
     "output_type": "stream",
     "text": [
      "\u001b[?1034hhi 2 you"
     ]
    }
   ],
   "source": [
    "cout << Form(\"hi %.0f %s\", 2.1, \"you\");"
   ]
  },
  {
   "cell_type": "code",
   "execution_count": 10,
   "metadata": {
    "collapsed": false
   },
   "outputs": [
    {
     "name": "stdout",
     "output_type": "stream",
     "text": [
      "(std::string &) \"hi 2.10 you\"\n"
     ]
    }
   ],
   "source": [
    "a"
   ]
  },
  {
   "cell_type": "code",
   "execution_count": 11,
   "metadata": {
    "collapsed": true
   },
   "outputs": [],
   "source": [
    "const char * b = Form(\"hi %.2f %s\", 2.1, \"you\");"
   ]
  },
  {
   "cell_type": "code",
   "execution_count": 12,
   "metadata": {
    "collapsed": false
   },
   "outputs": [
    {
     "name": "stdout",
     "output_type": "stream",
     "text": [
      "(const char *) \"p\\xa3&\\x01\"\n"
     ]
    }
   ],
   "source": [
    "b"
   ]
  },
  {
   "cell_type": "code",
   "execution_count": 16,
   "metadata": {
    "collapsed": false
   },
   "outputs": [
    {
     "name": "stderr",
     "output_type": "stream",
     "text": [
      "\u001b[1minput_line_51:2:7: \u001b[0m\u001b[0;1;31merror: \u001b[0m\u001b[1mno member named 'format' in namespace 'std'\u001b[0m\n",
      " std::format(\"{%d}\", 2)\n",
      "\u001b[0;1;32m ~~~~~^\n",
      "\u001b[0m"
     ]
    }
   ],
   "source": [
    "std::format(\"{%d}\", 2)"
   ]
  },
  {
   "cell_type": "code",
   "execution_count": 17,
   "metadata": {
    "collapsed": false
   },
   "outputs": [
    {
     "name": "stderr",
     "output_type": "stream",
     "text": [
      "\u001b[1minput_line_52:1:10: \u001b[0m\u001b[0;1;31mfatal error: \u001b[0m\u001b[1m'format' file not found\u001b[0m\n",
      "#include <format>\n",
      "\u001b[0;1;32m         ^\n",
      "\u001b[0m"
     ]
    }
   ],
   "source": [
    "#include <format>"
   ]
  },
  {
   "cell_type": "code",
   "execution_count": 1,
   "metadata": {
    "collapsed": false
   },
   "outputs": [
    {
     "name": "stdout",
     "output_type": "stream",
     "text": [
      "\u001b[?1034h"
     ]
    },
    {
     "name": "stderr",
     "output_type": "stream",
     "text": [
      "\u001b[1minput_line_27:8:18: \u001b[0m\u001b[0;1;31merror: \u001b[0m\u001b[1muse of undeclared identifier 'a'\u001b[0m\n",
      "    std::cout << a;\n",
      "\u001b[0;1;32m                 ^\n",
      "\u001b[0m"
     ]
    }
   ],
   "source": [
    "void newtest(bool x = true)\n",
    "{ \n",
    "    if (x) {\n",
    "        int a = 1;\n",
    "    } else {\n",
    "        int a = 0;\n",
    "    }\n",
    "    std::cout << a;\n",
    "}"
   ]
  },
  {
   "cell_type": "code",
   "execution_count": 1,
   "metadata": {
    "collapsed": false
   },
   "outputs": [
    {
     "name": "stdout",
     "output_type": "stream",
     "text": [
      "\u001b[?1034h"
     ]
    },
    {
     "name": "stderr",
     "output_type": "stream",
     "text": [
      "\u001b[1minput_line_27:2:15: \u001b[0m\u001b[0;1;31merror: \u001b[0m\u001b[1mexcess elements in scalar initializer\u001b[0m\n",
      " std::string *arr = {\"a\", \"b\"}\n",
      "\u001b[0;1;32m              ^         ~~~~~~\n",
      "\u001b[0m"
     ]
    }
   ],
   "source": [
    "std::string *arr = {\"a\", \"b\"}"
   ]
  },
  {
   "cell_type": "code",
   "execution_count": 3,
   "metadata": {
    "collapsed": true
   },
   "outputs": [],
   "source": [
    "std::string ar[2];"
   ]
  },
  {
   "cell_type": "code",
   "execution_count": 4,
   "metadata": {
    "collapsed": false
   },
   "outputs": [
    {
     "name": "stderr",
     "output_type": "stream",
     "text": [
      "\u001b[1minput_line_35:2:5: \u001b[0m\u001b[0;1;31merror: \u001b[0m\u001b[1marray type 'std::string [2]' is not assignable\u001b[0m\n",
      " ar = {\"a\", \"b\"}\n",
      "\u001b[0;1;32m ~~ ^\n",
      "\u001b[0m"
     ]
    }
   ],
   "source": [
    "ar = {\"a\", \"b\"}"
   ]
  },
  {
   "cell_type": "code",
   "execution_count": 5,
   "metadata": {
    "collapsed": false
   },
   "outputs": [
    {
     "name": "stdout",
     "output_type": "stream",
     "text": [
      "(std::__cxx11::basic_string &) \"a\"\n"
     ]
    }
   ],
   "source": [
    "ar[0] = \"a\""
   ]
  },
  {
   "cell_type": "code",
   "execution_count": 6,
   "metadata": {
    "collapsed": false
   },
   "outputs": [
    {
     "name": "stdout",
     "output_type": "stream",
     "text": [
      "(std::__cxx11::basic_string &) \"b\"\n"
     ]
    }
   ],
   "source": [
    "ar[1] = \"b\""
   ]
  },
  {
   "cell_type": "code",
   "execution_count": 8,
   "metadata": {
    "collapsed": false
   },
   "outputs": [
    {
     "name": "stdout",
     "output_type": "stream",
     "text": [
      "a(std::basic_ostream<char, std::char_traits<char> > &) @0x7f2d793dce00\n"
     ]
    }
   ],
   "source": [
    "cout << ar[0]"
   ]
  },
  {
   "cell_type": "code",
   "execution_count": null,
   "metadata": {
    "collapsed": true
   },
   "outputs": [],
   "source": []
  }
 ],
 "metadata": {
  "kernelspec": {
   "display_name": "ROOT C++",
   "language": "c++",
   "name": "root"
  },
  "language_info": {
   "codemirror_mode": "text/x-c++src",
   "file_extension": ".C",
   "mimetype": " text/x-c++src",
   "name": "c++"
  }
 },
 "nbformat": 4,
 "nbformat_minor": 2
}
