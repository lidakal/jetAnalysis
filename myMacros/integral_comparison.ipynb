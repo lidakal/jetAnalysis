{
 "cells": [
  {
   "cell_type": "code",
   "execution_count": 1,
   "metadata": {
    "collapsed": false
   },
   "outputs": [
    {
     "name": "stdout",
     "output_type": "stream",
     "text": [
      "\u001b[?1034h"
     ]
    }
   ],
   "source": [
    "Double_t counts;"
   ]
  },
  {
   "cell_type": "markdown",
   "metadata": {},
   "source": [
    "## 1D histogram - pT"
   ]
  },
  {
   "cell_type": "code",
   "execution_count": 2,
   "metadata": {
    "collapsed": false,
    "scrolled": true
   },
   "outputs": [],
   "source": [
    "TFile *f1d = new TFile(\"~/rootFiles/pt_par.root\");\n",
    "TH1F *h1 = (TH1F *)f1d->Get(\"h_qcd_ptL\");"
   ]
  },
  {
   "cell_type": "code",
   "execution_count": 3,
   "metadata": {
    "collapsed": false
   },
   "outputs": [
    {
     "name": "stdout",
     "output_type": "stream",
     "text": [
      "TFile**\t\t/home/llr/cms/kalipoliti/rootFiles/pt_par.root\t\n",
      " TFile*\t\t/home/llr/cms/kalipoliti/rootFiles/pt_par.root\t\n",
      "  OBJ: TH1F\th_qcd_ptL\tparpt, l jets : 0 at: 0x7f71300f3450\n",
      "  KEY: TH1F\th_qcd_ptB;1\tparpt, b jets\n",
      "  KEY: TH1F\th_qcd_ptC;1\tparpt, c jets\n",
      "  KEY: TH1F\th_qcd_ptL;1\tparpt, l jets\n",
      "  KEY: TH1F\th_qcd_zgL;1\tzg, l jets\n",
      "  KEY: TH2F\th_qcd_zgptL;1\tzg, pt, ljets\n",
      "  KEY: TH1F\th_qcd_etaL;1\teta, l jets\n",
      "  KEY: TH1F\th_bJet_ptB;1\tparpt, b jets\n",
      "  KEY: TH1F\th_bJet_ptC;1\tparpt, c jets\n",
      "  KEY: TH1F\th_bJet_ptL;1\tparpt, l jets\n",
      "  KEY: TH1F\th_bJet_zgL;1\tzg, l jets\n",
      "  KEY: TH2F\th_bJet_zgptL;1\tzg, pt, ljets\n",
      "  KEY: TH1F\th_bJet_etaL;1\teta, l jets\n"
     ]
    }
   ],
   "source": [
    "f1d->ls()"
   ]
  },
  {
   "cell_type": "code",
   "execution_count": 10,
   "metadata": {
    "collapsed": false
   },
   "outputs": [],
   "source": [
    "TH2F *h12 = (TH2F *)h_qcd_zgptL->Clone();"
   ]
  },
  {
   "cell_type": "code",
   "execution_count": 13,
   "metadata": {
    "collapsed": false
   },
   "outputs": [
    {
     "name": "stdout",
     "output_type": "stream",
     "text": [
      "(double) 73296608.000000\n"
     ]
    }
   ],
   "source": [
    "h12->GetEntries()"
   ]
  },
  {
   "cell_type": "code",
   "execution_count": 14,
   "metadata": {
    "collapsed": false
   },
   "outputs": [
    {
     "name": "stdout",
     "output_type": "stream",
     "text": [
      "(double) 707431.911691\n"
     ]
    }
   ],
   "source": [
    "h12->GetXaxis()->SetRange(0, h12->GetNbinsX()+1);\n",
    "h12->GetYaxis()->SetRange(0, h12->GetNbinsY()+1);\n",
    "h12->Integral()"
   ]
  },
  {
   "cell_type": "code",
   "execution_count": 12,
   "metadata": {
    "collapsed": false
   },
   "outputs": [],
   "source": [
    "h12->Draw();\n",
    "c1->Draw();"
   ]
  },
  {
   "cell_type": "code",
   "execution_count": 4,
   "metadata": {
    "collapsed": true
   },
   "outputs": [],
   "source": [
    "TH1F *h1n = (TH1F *)f1d->Get(\"h_qcd_zgL\");"
   ]
  },
  {
   "cell_type": "code",
   "execution_count": 5,
   "metadata": {
    "collapsed": false,
    "scrolled": true
   },
   "outputs": [
    {
     "name": "stdout",
     "output_type": "stream",
     "text": [
      "zg integral in [0.1, 0.5]: 585442\n",
      "zg integral in all zg range: 704645\n"
     ]
    }
   ],
   "source": [
    "h1n->GetXaxis()->SetRange(1, h1n->GetNbinsX());\n",
    "cout << \"zg integral in [0.1, 0.5]: \" << h1n->Integral() << endl;\n",
    "h1n->GetXaxis()->SetRange(0, h1n->GetNbinsX() + 1);\n",
    "cout << \"zg integral in all zg range: \" << h1n->Integral() << endl;"
   ]
  },
  {
   "cell_type": "code",
   "execution_count": 6,
   "metadata": {
    "collapsed": false
   },
   "outputs": [
    {
     "name": "stdout",
     "output_type": "stream",
     "text": [
      "(double) 73296608.000000\n"
     ]
    }
   ],
   "source": [
    "h1n->GetEntries()"
   ]
  },
  {
   "cell_type": "code",
   "execution_count": 5,
   "metadata": {
    "collapsed": false
   },
   "outputs": [
    {
     "name": "stdout",
     "output_type": "stream",
     "text": [
      "pt integral in [30, 300] Gev: 140485\n",
      "pt integral in all pt range: 566172\n"
     ]
    }
   ],
   "source": [
    "h1->GetXaxis()->SetRange(1, h1->GetNbinsX());\n",
    "cout << \"pt integral in [30, 300] Gev: \" << h1->Integral() << endl;\n",
    "h1->GetXaxis()->SetRange(0, h1->GetNbinsX() + 1);\n",
    "cout << \"pt integral in all pt range: \" << h1->Integral() << endl;"
   ]
  },
  {
   "cell_type": "code",
   "execution_count": 4,
   "metadata": {
    "collapsed": false
   },
   "outputs": [
    {
     "name": "stdout",
     "output_type": "stream",
     "text": [
      "(double) 66116177.000000\n"
     ]
    }
   ],
   "source": [
    "h1->GetEntries()"
   ]
  },
  {
   "cell_type": "code",
   "execution_count": 31,
   "metadata": {
    "collapsed": false
   },
   "outputs": [],
   "source": [
    "counts = 0;\n",
    "\n",
    "for (Long64_t i = 1; i < h1->GetNbinsX()+1; i++) {\n",
    "    counts += h1->GetBinContent(i);\n",
    "}"
   ]
  },
  {
   "cell_type": "code",
   "execution_count": 32,
   "metadata": {
    "collapsed": false
   },
   "outputs": [
    {
     "name": "stdout",
     "output_type": "stream",
     "text": [
      "(double) 166845.204517\n"
     ]
    }
   ],
   "source": [
    "counts"
   ]
  },
  {
   "cell_type": "markdown",
   "metadata": {},
   "source": [
    "* Counts agree with integral."
   ]
  },
  {
   "cell_type": "markdown",
   "metadata": {},
   "source": [
    "## 2D histogram - pT vs zg, pT vs rg"
   ]
  },
  {
   "cell_type": "code",
   "execution_count": 6,
   "metadata": {
    "collapsed": false
   },
   "outputs": [],
   "source": [
    "TFile *f2d = new TFile(\"~/rootFiles/parHistos/par_sub.root\");\n",
    "TH2F *h2 = (TH2F *) f2d->Get(\"h_qcd_zgL\");\n",
    "TH2F *h3 = (TH2F *) f2d->Get(\"h_qcd_rgL\");\n",
    "TH1F *h21 = (TH1F *) h2->ProjectionY()->Clone();\n",
    "TH1F *h31 = (TH1F *) h3->ProjectionY()->Clone();"
   ]
  },
  {
   "cell_type": "markdown",
   "metadata": {},
   "source": [
    "### pT vs zg"
   ]
  },
  {
   "cell_type": "code",
   "execution_count": 12,
   "metadata": {
    "collapsed": false
   },
   "outputs": [
    {
     "name": "stdout",
     "output_type": "stream",
     "text": [
      "(int) 19\n"
     ]
    }
   ],
   "source": [
    "h2->GetYaxis()->FindBin(120)"
   ]
  },
  {
   "cell_type": "code",
   "execution_count": 14,
   "metadata": {
    "collapsed": false
   },
   "outputs": [
    {
     "name": "stdout",
     "output_type": "stream",
     "text": [
      "(double) 120.000000\n"
     ]
    }
   ],
   "source": [
    "h2->GetYaxis()->GetBinLowEdge(19)"
   ]
  },
  {
   "cell_type": "markdown",
   "metadata": {},
   "source": [
    "From 2D histogram:"
   ]
  },
  {
   "cell_type": "code",
   "execution_count": 28,
   "metadata": {
    "collapsed": false
   },
   "outputs": [
    {
     "name": "stdout",
     "output_type": "stream",
     "text": [
      "pt integral in [30, 300] Gev: 167546\n",
      "pt integral in all pt range: 707432\n"
     ]
    }
   ],
   "source": [
    "h2->GetXaxis()->SetRange(0, h2->GetNbinsX()+1); // zg\n",
    "h2->GetYaxis()->SetRange(1, h2->GetNbinsY()); // pt\n",
    "cout << \"pt integral in [30, 300] Gev: \" << h2->Integral() << endl;\n",
    "h2->GetXaxis()->SetRange(0, h2->GetNbinsX()+1); // zg\n",
    "h2->GetYaxis()->SetRange(0, h2->GetNbinsY()+1); // pt\n",
    "cout << \"pt integral in all pt range: \" << h2->Integral() << endl;"
   ]
  },
  {
   "cell_type": "code",
   "execution_count": 15,
   "metadata": {
    "collapsed": false
   },
   "outputs": [
    {
     "name": "stdout",
     "output_type": "stream",
     "text": [
      "pt integral in [80, 120) Gev: 2175.73\n"
     ]
    }
   ],
   "source": [
    "h2->GetXaxis()->SetRange(0, h2->GetNbinsX()+1); // zg\n",
    "h2->GetYaxis()->SetRange(11, 19); // pt\n",
    "cout << \"pt integral in [80, 120) Gev: \" << h2->Integral() << endl;"
   ]
  },
  {
   "cell_type": "markdown",
   "metadata": {},
   "source": [
    "From projection into pt (y-axis):"
   ]
  },
  {
   "cell_type": "code",
   "execution_count": 26,
   "metadata": {
    "collapsed": false
   },
   "outputs": [
    {
     "name": "stdout",
     "output_type": "stream",
     "text": [
      "pt integral in [30, 300] Gev: 167546\n",
      "pt integral in all pt range: 707432\n"
     ]
    }
   ],
   "source": [
    "h21->GetXaxis()->SetRange(1, h21->GetNbinsX()); \n",
    "cout << \"pt integral in [30, 300] Gev: \" << h21->Integral() << endl;\n",
    "h21->GetXaxis()->SetRange(0, h21->GetNbinsX()+1);\n",
    "cout << \"pt integral in all pt range: \" << h21->Integral() << endl;"
   ]
  },
  {
   "cell_type": "code",
   "execution_count": 7,
   "metadata": {
    "collapsed": false
   },
   "outputs": [],
   "source": [
    "counts = 0;\n",
    "\n",
    "for (Long64_t i = 0; i < h2->GetNbinsX()+2; i++) {\n",
    "    for (Long64_t j = 1; j < h2->GetNbinsY()+1; j++) {\n",
    "        counts += h2->GetBinContent(i, j);\n",
    "    }\n",
    "}"
   ]
  },
  {
   "cell_type": "code",
   "execution_count": 8,
   "metadata": {
    "collapsed": false
   },
   "outputs": [
    {
     "name": "stdout",
     "output_type": "stream",
     "text": [
      "(double) 167546.231888\n"
     ]
    }
   ],
   "source": [
    "counts"
   ]
  },
  {
   "cell_type": "markdown",
   "metadata": {},
   "source": [
    "* Projection agrees with 2D integral.\n",
    "* Counts agree with integral."
   ]
  },
  {
   "cell_type": "markdown",
   "metadata": {},
   "source": [
    "### pT vs rg"
   ]
  },
  {
   "cell_type": "markdown",
   "metadata": {},
   "source": [
    "From 2D histogram:"
   ]
  },
  {
   "cell_type": "code",
   "execution_count": 16,
   "metadata": {
    "collapsed": false
   },
   "outputs": [
    {
     "name": "stdout",
     "output_type": "stream",
     "text": [
      "pt integral in [30, 300] Gev: 167526\n",
      "pt integral in all pt range: 707031\n"
     ]
    }
   ],
   "source": [
    "h3->GetXaxis()->SetRange(0, h3->GetNbinsX()+1); // rg\n",
    "h3->GetYaxis()->SetRange(1, h3->GetNbinsY()); //pt\n",
    "cout << \"pt integral in [30, 300] Gev: \" << h3->Integral() << endl;\n",
    "h3->GetXaxis()->SetRange(0, h3->GetNbinsX()+1); // rg\n",
    "h3->GetYaxis()->SetRange(0, h3->GetNbinsY()+1);\n",
    "cout << \"pt integral in all pt range: \" << h3->Integral() << endl;"
   ]
  },
  {
   "cell_type": "code",
   "execution_count": 17,
   "metadata": {
    "collapsed": false
   },
   "outputs": [
    {
     "name": "stdout",
     "output_type": "stream",
     "text": [
      "pt integral in [80, 120) Gev: 2175.73\n"
     ]
    }
   ],
   "source": [
    "h3->GetXaxis()->SetRange(0, h3->GetNbinsX()+1); // zg\n",
    "h3->GetYaxis()->SetRange(11, 19); // pt\n",
    "cout << \"pt integral in [80, 120) Gev: \" << h3->Integral() << endl;"
   ]
  },
  {
   "cell_type": "markdown",
   "metadata": {},
   "source": [
    "From the projection into pt (y-axis):"
   ]
  },
  {
   "cell_type": "code",
   "execution_count": 7,
   "metadata": {
    "collapsed": false
   },
   "outputs": [
    {
     "name": "stdout",
     "output_type": "stream",
     "text": [
      "pt integral in [30, 300] Gev: 167526\n",
      "pt integral in all pt range: 707031\n"
     ]
    }
   ],
   "source": [
    "h31->GetXaxis()->SetRange(1, h31->GetNbinsX()); \n",
    "cout << \"pt integral in [30, 300] Gev: \" << h31->Integral() << endl;\n",
    "h31->GetXaxis()->SetRange(0, h31->GetNbinsX()+1);\n",
    "cout << \"pt integral in all pt range: \" << h31->Integral() << endl;"
   ]
  },
  {
   "cell_type": "code",
   "execution_count": 9,
   "metadata": {
    "collapsed": true
   },
   "outputs": [],
   "source": [
    "counts = 0;\n",
    "\n",
    "for (Long64_t i = 0; i < h3->GetNbinsX()+2; i++) {\n",
    "    for (Long64_t j = 1; j < h3->GetNbinsY()+1; j++) {\n",
    "        counts += h3->GetBinContent(i, j);\n",
    "    }\n",
    "}"
   ]
  },
  {
   "cell_type": "code",
   "execution_count": 10,
   "metadata": {
    "collapsed": false
   },
   "outputs": [
    {
     "name": "stdout",
     "output_type": "stream",
     "text": [
      "(double) 167526.042074\n"
     ]
    }
   ],
   "source": [
    "counts"
   ]
  },
  {
   "cell_type": "markdown",
   "metadata": {},
   "source": [
    "* Projection agrees with 2D integral.\n",
    "* Counts agree with integral.\n",
    "* rg and zg integrals don't agree with each other."
   ]
  },
  {
   "cell_type": "markdown",
   "metadata": {},
   "source": [
    "## 3D histogram - pT vs zg vs rg, pT vs kt vs rg"
   ]
  },
  {
   "cell_type": "code",
   "execution_count": 18,
   "metadata": {
    "collapsed": true
   },
   "outputs": [],
   "source": [
    "TFile *f3d = new TFile(\"~/rootFiles/pt2dscan_par.root\");\n",
    "TH3F *h4 = (TH3F *)f3d->Get(\"h_qcd_ktL\");\n",
    "TH3F *h5 = (TH3F *)f3d->Get(\"h_qcd_rgzgL\");\n",
    "TH2F *h41 = (TH2F *) h4->ProjectionZ()->Clone();\n",
    "TH2F *h51 = (TH2F *) h5->ProjectionZ()->Clone();"
   ]
  },
  {
   "cell_type": "code",
   "execution_count": 19,
   "metadata": {
    "collapsed": true
   },
   "outputs": [],
   "source": [
    "h4->GetZaxis()->SetRangeUser(80, 120);\n",
    "TH1F *h42 = (TH1F *) h4->Project3D(\"yx\")->Clone();"
   ]
  },
  {
   "cell_type": "markdown",
   "metadata": {},
   "source": [
    "### pT vs kt vs rg"
   ]
  },
  {
   "cell_type": "code",
   "execution_count": 28,
   "metadata": {
    "collapsed": false
   },
   "outputs": [],
   "source": [
    "counts = 0;\n",
    "\n",
    "for (Long64_t i = 0; i < h4->GetNbinsX()+2; i++) {\n",
    "    for (Long64_t j = 0; j < h4->GetNbinsY()+2; j++) {\n",
    "        for (Long64_t k = 1; k < h4->GetNbinsZ()+1; k++) {\n",
    "            counts += h4->GetBinContent(i, j, k);\n",
    "        }\n",
    "    }\n",
    "}"
   ]
  },
  {
   "cell_type": "code",
   "execution_count": 29,
   "metadata": {
    "collapsed": false
   },
   "outputs": [
    {
     "name": "stdout",
     "output_type": "stream",
     "text": [
      "(float) 167543.87500f\n"
     ]
    }
   ],
   "source": [
    "counts"
   ]
  },
  {
   "cell_type": "markdown",
   "metadata": {},
   "source": [
    "From the 3D histogram:"
   ]
  },
  {
   "cell_type": "code",
   "execution_count": 21,
   "metadata": {
    "collapsed": false
   },
   "outputs": [
    {
     "name": "stdout",
     "output_type": "stream",
     "text": [
      "pt integral in [30, 300] Gev: 167555\n",
      "pt integral in all pt range: 707542\n"
     ]
    }
   ],
   "source": [
    "h4->GetXaxis()->SetRange(0, h4->GetNbinsX()+1); // rg\n",
    "h4->GetYaxis()->SetRange(0, h4->GetNbinsY()+1); // kt\n",
    "h4->GetZaxis()->SetRange(1, h4->GetNbinsZ()); // pt\n",
    "cout << \"pt integral in [30, 300] Gev: \" << h4->Integral() << endl;\n",
    "h4->GetXaxis()->SetRange(0, h4->GetNbinsX()+1); // rg\n",
    "h4->GetYaxis()->SetRange(0, h4->GetNbinsY()+1); // kt\n",
    "h4->GetZaxis()->SetRange(0, h4->GetNbinsZ()+1); // pt\n",
    "cout << \"pt integral in all pt range: \" << h4->Integral() << endl;"
   ]
  },
  {
   "cell_type": "code",
   "execution_count": 20,
   "metadata": {
    "collapsed": false
   },
   "outputs": [
    {
     "name": "stdout",
     "output_type": "stream",
     "text": [
      "(double) 73296608.000000\n"
     ]
    }
   ],
   "source": [
    "h4->GetEntries()"
   ]
  },
  {
   "cell_type": "code",
   "execution_count": 23,
   "metadata": {
    "collapsed": false
   },
   "outputs": [
    {
     "name": "stdout",
     "output_type": "stream",
     "text": [
      "pt integral in [80, 120] Gev: 2110.06\n"
     ]
    }
   ],
   "source": [
    "h4->GetXaxis()->SetRange(0, h4->GetNbinsX()+1); // rg\n",
    "h4->GetYaxis()->SetRange(0, h4->GetNbinsY()+1); // kt\n",
    "h4->GetZaxis()->SetRangeUser(80, 120); // pt\n",
    "cout << \"pt integral in [80, 120] Gev: \" << h4->Integral() << endl;"
   ]
  },
  {
   "cell_type": "markdown",
   "metadata": {},
   "source": [
    "From the pt projection (z-axis):"
   ]
  },
  {
   "cell_type": "code",
   "execution_count": 11,
   "metadata": {
    "collapsed": false
   },
   "outputs": [
    {
     "name": "stdout",
     "output_type": "stream",
     "text": [
      "pt integral in [30, 300] Gev: 167555\n",
      "pt integral in all pt range: 707542\n"
     ]
    }
   ],
   "source": [
    "h41->GetXaxis()->SetRange(1, h41->GetNbinsX()); \n",
    "cout << \"pt integral in [30, 300] Gev: \" << h41->Integral() << endl;\n",
    "h41->GetXaxis()->SetRange(0, h41->GetNbinsX()+1);\n",
    "cout << \"pt integral in all pt range: \" << h41->Integral() << endl;"
   ]
  },
  {
   "cell_type": "markdown",
   "metadata": {},
   "source": [
    "* Projection agrees with 3D integral."
   ]
  },
  {
   "cell_type": "code",
   "execution_count": 24,
   "metadata": {
    "collapsed": false
   },
   "outputs": [
    {
     "name": "stdout",
     "output_type": "stream",
     "text": [
      "pt integral in [80, 120] Gev: 2110.06\n"
     ]
    }
   ],
   "source": [
    "h42->GetXaxis()->SetRange(0, h42->GetNbinsX()+1); // rg\n",
    "h42->GetYaxis()->SetRange(0, h42->GetNbinsY()+1); // kt\n",
    "cout << \"pt integral in [80, 120] Gev: \" << h42->Integral() << endl;"
   ]
  },
  {
   "cell_type": "markdown",
   "metadata": {},
   "source": [
    "### pT vs zg vs rg"
   ]
  },
  {
   "cell_type": "markdown",
   "metadata": {},
   "source": [
    "From the 3D histogram:"
   ]
  },
  {
   "cell_type": "code",
   "execution_count": 12,
   "metadata": {
    "collapsed": false
   },
   "outputs": [
    {
     "name": "stdout",
     "output_type": "stream",
     "text": [
      "pt integral in [30, 300] Gev: 167557\n",
      "pt integral in all pt range: 707594\n"
     ]
    }
   ],
   "source": [
    "h5->GetXaxis()->SetRange(0, h5->GetNbinsX()+1); // rg\n",
    "h5->GetYaxis()->SetRange(0, h5->GetNbinsY()+1); // zg\n",
    "h5->GetZaxis()->SetRange(1, h5->GetNbinsZ()); // pt\n",
    "cout << \"pt integral in [30, 300] Gev: \" << h5->Integral() << endl;\n",
    "h5->GetXaxis()->SetRange(0, h5->GetNbinsX()+1); // rg\n",
    "h5->GetYaxis()->SetRange(0, h5->GetNbinsY()+1); // kt\n",
    "h5->GetZaxis()->SetRange(0, h5->GetNbinsZ()+1); // pt\n",
    "cout << \"pt integral in all pt range: \" << h5->Integral() << endl;"
   ]
  },
  {
   "cell_type": "code",
   "execution_count": 14,
   "metadata": {
    "collapsed": false
   },
   "outputs": [
    {
     "name": "stdout",
     "output_type": "stream",
     "text": [
      "(double) 73296608.000000\n"
     ]
    }
   ],
   "source": [
    "h5->GetEntries()"
   ]
  },
  {
   "cell_type": "markdown",
   "metadata": {},
   "source": [
    "From the pt projection (z-axis):"
   ]
  },
  {
   "cell_type": "code",
   "execution_count": 13,
   "metadata": {
    "collapsed": false
   },
   "outputs": [
    {
     "name": "stdout",
     "output_type": "stream",
     "text": [
      "pt integral in [30, 300] Gev: 167557\n",
      "pt integral in all pt range: 707594\n"
     ]
    }
   ],
   "source": [
    "h51->GetXaxis()->SetRange(1, h51->GetNbinsX()); \n",
    "cout << \"pt integral in [30, 300] Gev: \" << h51->Integral() << endl;\n",
    "h51->GetXaxis()->SetRange(0, h51->GetNbinsX()+1);\n",
    "cout << \"pt integral in all pt range: \" << h51->Integral() << endl;"
   ]
  },
  {
   "cell_type": "code",
   "execution_count": 15,
   "metadata": {
    "collapsed": false
   },
   "outputs": [
    {
     "name": "stdout",
     "output_type": "stream",
     "text": [
      "(double) 2269484.139247\n"
     ]
    }
   ],
   "source": [
    "h51->GetEntries()"
   ]
  },
  {
   "cell_type": "markdown",
   "metadata": {},
   "source": [
    "* Projection agrees with 3D integral.\n",
    "* Projection gets effective number of entries instead of total (has to do with weights).\n",
    "* The two 3D histograms have different integrals but same number of entries."
   ]
  },
  {
   "cell_type": "markdown",
   "metadata": {},
   "source": [
    "## Test histogram"
   ]
  },
  {
   "cell_type": "code",
   "execution_count": 8,
   "metadata": {
    "collapsed": false
   },
   "outputs": [
    {
     "name": "stdout",
     "output_type": "stream",
     "text": [
      "(TCanvas *) 0x7f27f8043550\n"
     ]
    }
   ],
   "source": [
    "TCanvas *c = new TCanvas(\"c\", \"\", 600, 600)"
   ]
  },
  {
   "cell_type": "code",
   "execution_count": 1,
   "metadata": {
    "collapsed": false
   },
   "outputs": [
    {
     "name": "stdout",
     "output_type": "stream",
     "text": [
      "\u001b[?1034h"
     ]
    }
   ],
   "source": [
    "TH2F *htest;"
   ]
  },
  {
   "cell_type": "code",
   "execution_count": 2,
   "metadata": {
    "collapsed": false
   },
   "outputs": [],
   "source": [
    "htest = new TH2F(\"htest\", \"\", 2, 0, 1, 2, 0, 1);"
   ]
  },
  {
   "cell_type": "code",
   "execution_count": 3,
   "metadata": {
    "collapsed": true
   },
   "outputs": [],
   "source": [
    "htest->Fill(0.1, 0.2);\n",
    "htest->Fill(0.1, 0.5);\n",
    "htest->Fill(0.2, 0.4);\n",
    "htest->Fill(0.6, 0.7);\n",
    "htest->Fill(0.8, 0.1);\n",
    "\n",
    "htest->Fill(-0.4, 0.5, 0.1);\n",
    "htest->Fill(-0.1, -0.2, 0.1);\n",
    "htest->Fill(-0.1, 0.2, 0.2);\n",
    "htest->Fill(0.1, -0.2, 0.2);\n",
    "htest->Fill(0.1, 1.2, 0.1);"
   ]
  },
  {
   "cell_type": "code",
   "execution_count": 4,
   "metadata": {
    "collapsed": true
   },
   "outputs": [],
   "source": [
    "TH1F *h2test = (TH1F *)htest->ProjectionX();"
   ]
  },
  {
   "cell_type": "code",
   "execution_count": 5,
   "metadata": {
    "collapsed": false
   },
   "outputs": [],
   "source": [
    "gStyle->SetOptStat(0);"
   ]
  },
  {
   "cell_type": "code",
   "execution_count": 6,
   "metadata": {
    "collapsed": true
   },
   "outputs": [],
   "source": [
    "%jsroot off"
   ]
  },
  {
   "cell_type": "code",
   "execution_count": 9,
   "metadata": {
    "collapsed": false
   },
   "outputs": [
    {
     "data": {
      "image/png": "[encoded data removed]",
      "text/plain": [
       "<IPython.core.display.Image object>"
      ]
     },
     "metadata": {},
     "output_type": "display_data"
    }
   ],
   "source": [
    "htest->GetXaxis()->SetRange(0,3);\n",
    "htest->GetYaxis()->SetRange(0,3);\n",
    "htest->Draw(\"colz\");\n",
    "c->Draw();"
   ]
  },
  {
   "cell_type": "code",
   "execution_count": 16,
   "metadata": {
    "collapsed": false
   },
   "outputs": [
    {
     "name": "stdout",
     "output_type": "stream",
     "text": [
      "(double) 5.300000\n"
     ]
    }
   ],
   "source": [
    "h2test->GetXaxis()->SetRange(1,2);\n",
    "h2test->Integral()"
   ]
  },
  {
   "cell_type": "code",
   "execution_count": 11,
   "metadata": {
    "collapsed": false
   },
   "outputs": [
    {
     "name": "stdout",
     "output_type": "stream",
     "text": [
      "(double) 10.000000\n"
     ]
    }
   ],
   "source": [
    "htest->GetEntries()"
   ]
  },
  {
   "cell_type": "code",
   "execution_count": 12,
   "metadata": {
    "collapsed": false
   },
   "outputs": [
    {
     "name": "stdout",
     "output_type": "stream",
     "text": [
      "(double) 0.100000\n"
     ]
    }
   ],
   "source": [
    "htest->GetBinContent(0,0)"
   ]
  },
  {
   "cell_type": "markdown",
   "metadata": {},
   "source": [
    "Projection:"
   ]
  },
  {
   "cell_type": "code",
   "execution_count": 14,
   "metadata": {
    "collapsed": false
   },
   "outputs": [
    {
     "name": "stdout",
     "output_type": "stream",
     "text": [
      "(double) 5.700000\n"
     ]
    }
   ],
   "source": [
    "h2test->GetXaxis()->SetRange(0,3);\n",
    "h2test->Integral()"
   ]
  },
  {
   "cell_type": "code",
   "execution_count": 15,
   "metadata": {
    "collapsed": false
   },
   "outputs": [
    {
     "name": "stdout",
     "output_type": "stream",
     "text": [
      "(double) 5.562376\n"
     ]
    }
   ],
   "source": [
    "h2test->GetEntries()"
   ]
  },
  {
   "cell_type": "code",
   "execution_count": 56,
   "metadata": {
    "collapsed": false
   },
   "outputs": [
    {
     "data": {
      "image/png": "[encoded data removed]",
      "text/plain": [
       "<IPython.core.display.Image object>"
      ]
     },
     "metadata": {},
     "output_type": "display_data"
    }
   ],
   "source": [
    "h2test = (TH1F *)htest->ProjectionX();\n",
    "h2test->GetXaxis()->SetRange(0,3);\n",
    "h2test->Draw();\n",
    "c->Draw();"
   ]
  },
  {
   "cell_type": "code",
   "execution_count": null,
   "metadata": {
    "collapsed": true
   },
   "outputs": [],
   "source": []
  }
 ],
 "metadata": {
  "kernelspec": {
   "display_name": "ROOT C++",
   "language": "c++",
   "name": "root"
  },
  "language_info": {
   "codemirror_mode": "text/x-c++src",
   "file_extension": ".C",
   "mimetype": " text/x-c++src",
   "name": "c++"
  }
 },
 "nbformat": 4,
 "nbformat_minor": 2
}
