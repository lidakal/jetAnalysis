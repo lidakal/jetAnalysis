{
 "cells": [
  {
   "cell_type": "code",
   "execution_count": 1,
   "metadata": {
    "collapsed": false
   },
   "outputs": [
    {
     "name": "stdout",
     "output_type": "stream",
     "text": [
      "\u001b[?1034h"
     ]
    }
   ],
   "source": [
    "#include \"TreeAnalyzer.h\""
   ]
  },
  {
   "cell_type": "code",
   "execution_count": 2,
   "metadata": {
    "collapsed": false
   },
   "outputs": [],
   "source": [
    "TreeAnalyzer ta = TreeAnalyzer();"
   ]
  },
  {
   "cell_type": "code",
   "execution_count": 3,
   "metadata": {
    "collapsed": false
   },
   "outputs": [
    {
     "name": "stdout",
     "output_type": "stream",
     "text": [
      "Creating partonTree in localTrees.root\n",
      "Processing i = 0\n"
     ]
    }
   ],
   "source": [
    "ta.CreateLocalTree();"
   ]
  },
  {
   "cell_type": "code",
   "execution_count": 4,
   "metadata": {
    "collapsed": false
   },
   "outputs": [
    {
     "name": "stdout",
     "output_type": "stream",
     "text": [
      "TreeAnalyzer.h\t\t\t   myFile.root\r\n",
      "Untitled.ipynb\t\t\t   par\r\n",
      "draw2dhist.C\t\t\t   plotNref.C\r\n",
      "draw2dhist.C~\t\t\t   plotNref.C~\r\n",
      "draw2dhist_C.d\t\t\t   plotNref_C.d\r\n",
      "draw2dhist_C.so\t\t\t   plotNref_C.so\r\n",
      "draw2dhist_C_ACLiC_dict_rdict.pcm  plotNref_C_ACLiC_dict_rdict.pcm\r\n",
      "drawNref.C~\t\t\t   ref\r\n",
      "drawNref_C.d\t\t\t   t.C\r\n",
      "drawNref_C.so\t\t\t   t.C~\r\n",
      "drawNref_C_ACLiC_dict_rdict.pcm    t.h\r\n",
      "localTree.root\t\t\t   test_pyroot.ipynb\r\n",
      "localTrees.root\t\t\t   zg\r\n",
      "\n"
     ]
    }
   ],
   "source": [
    "!ls"
   ]
  },
  {
   "cell_type": "code",
   "execution_count": 5,
   "metadata": {
    "collapsed": true
   },
   "outputs": [],
   "source": [
    "TFile *fin = new TFile(\"localTree.root\");"
   ]
  },
  {
   "cell_type": "code",
   "execution_count": 6,
   "metadata": {
    "collapsed": false
   },
   "outputs": [
    {
     "name": "stdout",
     "output_type": "stream",
     "text": [
      "TFile**\t\tlocalTree.root\t\n",
      " TFile*\t\tlocalTree.root\t\n",
      "  KEY: TTree\tt;840\tak4PFpatJetsWithBtagging Jet Analysis Tree\n"
     ]
    }
   ],
   "source": [
    "fin->ls();"
   ]
  },
  {
   "cell_type": "code",
   "execution_count": 7,
   "metadata": {
    "collapsed": true
   },
   "outputs": [],
   "source": [
    "TTree *t = (TTree *) fin->Get(\"t\");"
   ]
  },
  {
   "cell_type": "code",
   "execution_count": 8,
   "metadata": {
    "collapsed": false
   },
   "outputs": [
    {
     "name": "stdout",
     "output_type": "stream",
     "text": [
      "******************************************************************************\n",
      "*Tree    :t         : ak4PFpatJetsWithBtagging Jet Analysis Tree             *\n",
      "*Entries : 34146000 : Total =       136658606 bytes  File  Size =   22776244 *\n",
      "*        :          : Tree compression factor =   6.00                       *\n",
      "******************************************************************************\n",
      "*Br    0 :npar      : npar/I                                                 *\n",
      "*Entries : 34146000 : Total  Size=  136658210 bytes  File Size  =   22767129 *\n",
      "*Baskets :      840 : Basket Size=     487936 bytes  Compression=   6.00     *\n",
      "*............................................................................*\n"
     ]
    }
   ],
   "source": [
    "t->Print();"
   ]
  },
  {
   "cell_type": "code",
   "execution_count": 9,
   "metadata": {
    "collapsed": true
   },
   "outputs": [],
   "source": [
    "TBranch *b = (TBranch *) t->GetBranch(\"npar\");"
   ]
  },
  {
   "cell_type": "code",
   "execution_count": 10,
   "metadata": {
    "collapsed": false
   },
   "outputs": [
    {
     "name": "stdout",
     "output_type": "stream",
     "text": [
      "*Br    1 :npar      : npar/I                                                 *\n",
      "*Entries : 34146000 : Total  Size=  136658210 bytes  File Size  =   22767129 *\n",
      "*Baskets :      840 : Basket Size=     487936 bytes  Compression=   6.00     *\n",
      "*............................................................................*\n"
     ]
    }
   ],
   "source": [
    "b->Print();"
   ]
  },
  {
   "cell_type": "code",
   "execution_count": 12,
   "metadata": {
    "collapsed": false
   },
   "outputs": [],
   "source": [
    "TTree *tnew = new TTree(\"tnew\", \"\");"
   ]
  },
  {
   "cell_type": "code",
   "execution_count": null,
   "metadata": {
    "collapsed": false
   },
   "outputs": [],
   "source": [
    "tnew->Print();"
   ]
  },
  {
   "cell_type": "code",
   "execution_count": null,
   "metadata": {
    "collapsed": true
   },
   "outputs": [],
   "source": [
    "tnew->Branch(b);"
   ]
  },
  {
   "cell_type": "code",
   "execution_count": null,
   "metadata": {
    "collapsed": true
   },
   "outputs": [],
   "source": []
  }
 ],
 "metadata": {
  "kernelspec": {
   "display_name": "ROOT C++",
   "language": "c++",
   "name": "root"
  },
  "language_info": {
   "codemirror_mode": "text/x-c++src",
   "file_extension": ".C",
   "mimetype": " text/x-c++src",
   "name": "c++"
  }
 },
 "nbformat": 4,
 "nbformat_minor": 2
}
