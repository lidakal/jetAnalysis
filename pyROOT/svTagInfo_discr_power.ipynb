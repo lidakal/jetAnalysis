{
 "cells": [
  {
   "cell_type": "code",
   "execution_count": 1,
   "id": "8ab647f9",
   "metadata": {},
   "outputs": [],
   "source": [
    "%jsroot on"
   ]
  },
  {
   "cell_type": "markdown",
   "id": "f865cc86",
   "metadata": {},
   "source": [
    "Create histograms"
   ]
  },
  {
   "cell_type": "code",
   "execution_count": null,
   "id": "17914219",
   "metadata": {},
   "outputs": [],
   "source": [
    "h1 = TH1F(\"h1\", \"h1\", 10, -1, 1);\n",
    "h1.FillRandom(\"gaus\", 10000);\n",
    "    \n",
    "h2 = TH1F(\"h2\", \"h2\", 100, -1, 1);\n",
    "h2.FillRandom(\"gaus\", 100000);"
   ]
  },
  {
   "cell_type": "markdown",
   "id": "5ec78073",
   "metadata": {},
   "source": [
    "Plot histograms"
   ]
  },
  {
   "cell_type": "code",
   "execution_count": null,
   "id": "1e406f0a",
   "metadata": {},
   "outputs": [],
   "source": [
    "TCanvas *c1 = new TCanvas(\"c1\", \"c1\", 500, 500);\n",
    "h1.Draw();\n",
    "\n",
    "TCanvas *c2 = new TCanvas(\"c2\", \"c2\", 500, 500);\n",
    "h2.Draw();"
   ]
  },
  {
   "cell_type": "markdown",
   "id": "e3be12f5",
   "metadata": {},
   "source": [
    "Show histograms"
   ]
  },
  {
   "cell_type": "code",
   "execution_count": null,
   "id": "fb987769",
   "metadata": {},
   "outputs": [],
   "source": [
    "gROOT->GetListOfCanvases()->Draw();"
   ]
  },
  {
   "cell_type": "markdown",
   "id": "f9ba0519",
   "metadata": {},
   "source": [
    "Save histograms in a file"
   ]
  },
  {
   "cell_type": "code",
   "execution_count": null,
   "id": "462bdf72",
   "metadata": {},
   "outputs": [],
   "source": [
    "TFile *f = new TFile(\"myhist.root\", \"recreate\");\n",
    "\n",
    "h1.Write();\n",
    "h2.Write();\n",
    "\n",
    "f->Close();"
   ]
  },
  {
   "cell_type": "markdown",
   "id": "9aef8fd3",
   "metadata": {},
   "source": [
    "Open file again and see what is inside"
   ]
  },
  {
   "cell_type": "code",
   "execution_count": null,
   "id": "ca84ab6a",
   "metadata": {},
   "outputs": [],
   "source": [
    "TFile *f1 = new TFile(\"myhist.root\");\n",
    "\n",
    "f1->ls();"
   ]
  },
  {
   "cell_type": "markdown",
   "id": "2ddd0823",
   "metadata": {},
   "source": [
    "Open histograms to see if they look the same"
   ]
  },
  {
   "cell_type": "code",
   "execution_count": null,
   "id": "a02efd63",
   "metadata": {},
   "outputs": [],
   "source": [
    "TH1F *h11 = (TH1F*) f1->Get(\"h1\");\n",
    "TH1F *h22 = (TH1F*) f1->Get(\"h2\");"
   ]
  },
  {
   "cell_type": "code",
   "execution_count": null,
   "id": "7ec354c0",
   "metadata": {},
   "outputs": [],
   "source": [
    "TCanvas *c11 = new TCanvas(\"c11\", \"c11\", 500, 500);\n",
    "h1.Draw();\n",
    "\n",
    "TCanvas *c12 = new TCanvas(\"c12\", \"c12\", 500, 500);\n",
    "h11->Draw();\n",
    "\n",
    "gROOT->GetListOfCanvases()->Draw();"
   ]
  },
  {
   "cell_type": "markdown",
   "id": "cd2e250b",
   "metadata": {},
   "source": [
    "2D histograms"
   ]
  },
  {
   "cell_type": "code",
   "execution_count": 52,
   "id": "e40e45dc",
   "metadata": {},
   "outputs": [],
   "source": [
    "const int arr_size = 20;\n",
    "\n",
    "int nref[arr_size] = {0, 1, 2, 1, 1, \n",
    "               0, 0, 2, 2, 1,\n",
    "               1, 0, 2, 1, 0,\n",
    "               1, 1, 0, 2, 0};"
   ]
  },
  {
   "cell_type": "code",
   "execution_count": 54,
   "id": "7318a268",
   "metadata": {},
   "outputs": [],
   "source": [
    "int ngen[arr_size] = {0, 1, 2, 1, 1, \n",
    "               0, 0, 2, 2, 1,\n",
    "               1, 0, 2, 1, 0,\n",
    "               1, 1, 0, 2, 0};"
   ]
  },
  {
   "cell_type": "code",
   "execution_count": 78,
   "id": "f1d27a17",
   "metadata": {},
   "outputs": [
    {
     "name": "stderr",
     "output_type": "stream",
     "text": [
      "Warning in <TROOT::Append>: Replacing existing TH1: hnew (Potential memory leak).\n",
      "Warning in <TCanvas::Constructor>: Deleting canvas with same name: newc\n"
     ]
    }
   ],
   "source": [
    "TH2F *hnew = new TH2F(\"hnew\", \"hnew\", 3, -0.5, 2.5, 3, -0.5, 2.5);\n",
    "\n",
    "for (int i = 0; i < arr_size; i++){\n",
    "    int x = nref[i];\n",
    "    int y = ngen[i];\n",
    "    //std::cout << \"\\n\" << i << \" \" << x << y;\n",
    "    if (x == y) hnew->Fill(x, y, 1); // 1 is the weight\n",
    "}\n",
    "\n",
    "TCanvas *newc = new TCanvas(\"newc\", \"newc\", 500,500);\n",
    "hnew->Draw(\"COLLZ\");\n",
    "hnew->SetStats(0);"
   ]
  },
  {
   "cell_type": "code",
   "execution_count": 80,
   "id": "ce1c9210",
   "metadata": {},
   "outputs": [
    {
     "data": {
      "text/html": [
       "\n",
       "\n",
       "<div id=\"root_plot_1646153886769\"\n",
       "     style=\"width: 496px; height: 472px\">\n",
       "</div>\n",
       "<script>\n",
       "\n",
       "function display_root_plot_1646153886769(Core) {\n",
       "   let obj = Core.parse({\"_typename\":\"TCanvas\",\"fUniqueID\":0,\"fBits\":3342344,\"fLineColor\":1,\"fLineStyle\":1,\"fLineWidth\":1,\"fFillColor\":0,\"fFillStyle\":1001,\"fLeftMargin\":0.1,\"fRightMargin\":0.1,\"fBottomMargin\":0.1,\"fTopMargin\":0.1,\"fXfile\":2,\"fYfile\":2,\"fAfile\":1,\"fXstat\":0.99,\"fYstat\":0.99,\"fAstat\":2,\"fFrameFillColor\":0,\"fFrameLineColor\":1,\"fFrameFillStyle\":1001,\"fFrameLineStyle\":1,\"fFrameLineWidth\":1,\"fFrameBorderSize\":1,\"fFrameBorderMode\":0,\"fX1\":-0.875000027939679,\"fY1\":-0.875000027939679,\"fX2\":2.87500002793968,\"fY2\":2.87500002793968,\"fXtoAbsPixelk\":115.73338530426,\"fXtoPixelk\":115.73338530426,\"fXtoPixel\":132.26666469574,\"fYtoAbsPixelk\":361.866714791107,\"fYtoPixelk\":361.866714791107,\"fYtoPixel\":-125.866664791107,\"fUtoAbsPixelk\":5e-5,\"fUtoPixelk\":5e-5,\"fUtoPixel\":496,\"fVtoAbsPixelk\":472.00005,\"fVtoPixelk\":472,\"fVtoPixel\":-472,\"fAbsPixeltoXk\":-0.875000027939679,\"fPixeltoXk\":-0.875000027939679,\"fPixeltoX\":0.00756048398362774,\"fAbsPixeltoYk\":2.87500002793968,\"fPixeltoYk\":-0.875000027939679,\"fPixeltoY\":-0.00794491537262576,\"fXlowNDC\":0,\"fYlowNDC\":0,\"fXUpNDC\":1,\"fYUpNDC\":1,\"fWNDC\":1,\"fHNDC\":1,\"fAbsXlowNDC\":0,\"fAbsYlowNDC\":0,\"fAbsWNDC\":1,\"fAbsHNDC\":1,\"fUxmin\":-0.5,\"fUymin\":-0.5,\"fUxmax\":2.5,\"fUymax\":2.5,\"fTheta\":30,\"fPhi\":30,\"fAspectRatio\":0,\"fNumber\":0,\"fTickx\":0,\"fTicky\":0,\"fLogx\":0,\"fLogy\":0,\"fLogz\":0,\"fPadPaint\":0,\"fCrosshair\":0,\"fCrosshairPos\":0,\"fBorderSize\":2,\"fBorderMode\":0,\"fModified\":false,\"fGridx\":false,\"fGridy\":false,\"fAbsCoord\":false,\"fEditable\":true,\"fFixedAspectRatio\":false,\"fPrimitives\":{\"_typename\":\"TList\",\"name\":\"TList\",\"arr\":[{\"_typename\":\"TFrame\",\"fUniqueID\":0,\"fBits\":8,\"fLineColor\":1,\"fLineStyle\":1,\"fLineWidth\":1,\"fFillColor\":0,\"fFillStyle\":1001,\"fX1\":-0.5,\"fY1\":-0.5,\"fX2\":2.5,\"fY2\":2.5,\"fBorderSize\":1,\"fBorderMode\":0},{\"_typename\":\"TH2F\",\"fUniqueID\":0,\"fBits\":520,\"fName\":\"hnew\",\"fTitle\":\"hnew\",\"fLineColor\":602,\"fLineStyle\":1,\"fLineWidth\":1,\"fFillColor\":0,\"fFillStyle\":1001,\"fMarkerColor\":1,\"fMarkerStyle\":1,\"fMarkerSize\":1,\"fNcells\":25,\"fXaxis\":{\"_typename\":\"TAxis\",\"fUniqueID\":0,\"fBits\":0,\"fName\":\"xaxis\",\"fTitle\":\"\",\"fNdivisions\":510,\"fAxisColor\":1,\"fLabelColor\":1,\"fLabelFont\":42,\"fLabelOffset\":0.005,\"fLabelSize\":0.035,\"fTickLength\":0.03,\"fTitleOffset\":1,\"fTitleSize\":0.035,\"fTitleColor\":1,\"fTitleFont\":42,\"fNbins\":3,\"fXmin\":-0.5,\"fXmax\":2.5,\"fXbins\":[],\"fFirst\":0,\"fLast\":0,\"fBits2\":0,\"fTimeDisplay\":false,\"fTimeFormat\":\"\",\"fLabels\":null,\"fModLabs\":null},\"fYaxis\":{\"_typename\":\"TAxis\",\"fUniqueID\":0,\"fBits\":0,\"fName\":\"yaxis\",\"fTitle\":\"\",\"fNdivisions\":510,\"fAxisColor\":1,\"fLabelColor\":1,\"fLabelFont\":42,\"fLabelOffset\":0.005,\"fLabelSize\":0.035,\"fTickLength\":0.03,\"fTitleOffset\":0,\"fTitleSize\":0.035,\"fTitleColor\":1,\"fTitleFont\":42,\"fNbins\":3,\"fXmin\":-0.5,\"fXmax\":2.5,\"fXbins\":[],\"fFirst\":0,\"fLast\":0,\"fBits2\":0,\"fTimeDisplay\":false,\"fTimeFormat\":\"\",\"fLabels\":null,\"fModLabs\":null},\"fZaxis\":{\"_typename\":\"TAxis\",\"fUniqueID\":0,\"fBits\":0,\"fName\":\"zaxis\",\"fTitle\":\"\",\"fNdivisions\":510,\"fAxisColor\":1,\"fLabelColor\":1,\"fLabelFont\":42,\"fLabelOffset\":0.005,\"fLabelSize\":0.035,\"fTickLength\":0.03,\"fTitleOffset\":1,\"fTitleSize\":0.035,\"fTitleColor\":1,\"fTitleFont\":42,\"fNbins\":1,\"fXmin\":0,\"fXmax\":1,\"fXbins\":[],\"fFirst\":0,\"fLast\":0,\"fBits2\":0,\"fTimeDisplay\":false,\"fTimeFormat\":\"\",\"fLabels\":null,\"fModLabs\":null},\"fBarOffset\":0,\"fBarWidth\":1000,\"fEntries\":20,\"fTsumw\":20,\"fTsumw2\":20,\"fTsumwx\":18,\"fTsumwx2\":28,\"fMaximum\":-1111,\"fMinimum\":-1111,\"fNormFactor\":0,\"fContour\":[0,0.4,0.8,1.2,1.6,2,2.4,2.8,3.2,3.6,4,4.4,4.8,5.2,5.6,6,6.4,6.8,7.2,7.6],\"fSumw2\":[],\"fOption\":\"\",\"fFunctions\":{\"_typename\":\"TList\",\"name\":\"TList\",\"arr\":[{\"_typename\":\"TPaletteAxis\",\"fUniqueID\":0,\"fBits\":0,\"fLineColor\":1,\"fLineStyle\":1,\"fLineWidth\":1,\"fFillColor\":1178,\"fFillStyle\":1001,\"fX1\":2.5187500002794,\"fY1\":-0.5,\"fX2\":2.68750000279397,\"fY2\":2.5,\"fX1NDC\":0.904999994039535,\"fY1NDC\":0.100000005960465,\"fX2NDC\":0.949999994039535,\"fY2NDC\":0.899999994039535,\"fBorderSize\":4,\"fInit\":1,\"fShadowColor\":1,\"fCornerRadius\":0,\"fOption\":\"br\",\"fName\":\"TPave\",\"fAxis\":{\"_typename\":\"TGaxis\",\"fUniqueID\":0,\"fBits\":0,\"fLineColor\":1,\"fLineStyle\":1,\"fLineWidth\":1,\"fX1\":0,\"fY1\":0,\"fX2\":0,\"fY2\":0,\"fTextAngle\":0,\"fTextSize\":0.04,\"fTextAlign\":11,\"fTextColor\":1,\"fTextFont\":42,\"fWmin\":0,\"fWmax\":0,\"fGridLength\":0,\"fTickSize\":0.03,\"fLabelOffset\":0.005,\"fLabelSize\":0.035,\"fTitleOffset\":1,\"fTitleSize\":0.035,\"fNdiv\":0,\"fLabelColor\":1,\"fLabelFont\":42,\"fNModLabs\":0,\"fChopt\":\"\",\"fName\":\"\",\"fTitle\":\"\",\"fTimeFormat\":\"\",\"fFunctionName\":\"\",\"fModLabs\":null},\"fName\":\"palette\"}],\"opt\":[\"br\"]},\"fBufferSize\":0,\"fBuffer\":[],\"fBinStatErrOpt\":0,\"fStatOverflows\":2,\"fScalefactor\":1,\"fTsumwy\":18,\"fTsumwy2\":28,\"fTsumwxy\":28,\"fArray\":[0,0,0,0,0,0,7,0,0,0,0,0,8,0,0,0,0,0,5,0,0,0,0,0,0]},{\"_typename\":\"TPaveText\",\"fUniqueID\":0,\"fBits\":9,\"fLineColor\":1,\"fLineStyle\":1,\"fLineWidth\":1,\"fFillColor\":0,\"fFillStyle\":0,\"fX1\":0.728124995948747,\"fY1\":2.65000003939495,\"fX2\":1.27187500405125,\"fY2\":2.85625004554168,\"fX1NDC\":0.4275,\"fY1NDC\":0.940000003948808,\"fX2NDC\":0.5725,\"fY2NDC\":0.995000004768372,\"fBorderSize\":0,\"fInit\":1,\"fShadowColor\":1,\"fCornerRadius\":0,\"fOption\":\"blNDC\",\"fName\":\"title\",\"fTextAngle\":0,\"fTextSize\":0,\"fTextAlign\":22,\"fTextColor\":1,\"fTextFont\":42,\"fLabel\":\"\",\"fLongest\":4,\"fMargin\":0.05,\"fLines\":{\"_typename\":\"TList\",\"name\":\"TList\",\"arr\":[{\"_typename\":\"TLatex\",\"fUniqueID\":0,\"fBits\":0,\"fName\":\"\",\"fTitle\":\"hnew\",\"fTextAngle\":0,\"fTextSize\":0,\"fTextAlign\":0,\"fTextColor\":0,\"fTextFont\":0,\"fX\":0,\"fY\":0,\"fLineColor\":1,\"fLineStyle\":1,\"fLineWidth\":2,\"fLimitFactorSize\":3,\"fOriginSize\":0.0467500016093254}],\"opt\":[\"\"]}},{\"_typename\":\"TStyle\",\"fUniqueID\":0,\"fBits\":0,\"fName\":\"Modern\",\"fTitle\":\"Modern Style\",\"fLineColor\":1,\"fLineStyle\":1,\"fLineWidth\":1,\"fFillColor\":19,\"fFillStyle\":1001,\"fMarkerColor\":1,\"fMarkerStyle\":1,\"fMarkerSize\":1,\"fTextAngle\":0,\"fTextSize\":0.05,\"fTextAlign\":11,\"fTextColor\":1,\"fTextFont\":62,\"fXaxis\":{\"_typename\":\"TAttAxis\",\"fNdivisions\":510,\"fAxisColor\":1,\"fLabelColor\":1,\"fLabelFont\":42,\"fLabelOffset\":0.005,\"fLabelSize\":0.035,\"fTickLength\":0.03,\"fTitleOffset\":1,\"fTitleSize\":0.035,\"fTitleColor\":1,\"fTitleFont\":42},\"fYaxis\":{\"_typename\":\"TAttAxis\",\"fNdivisions\":510,\"fAxisColor\":1,\"fLabelColor\":1,\"fLabelFont\":42,\"fLabelOffset\":0.005,\"fLabelSize\":0.035,\"fTickLength\":0.03,\"fTitleOffset\":0,\"fTitleSize\":0.035,\"fTitleColor\":1,\"fTitleFont\":42},\"fZaxis\":{\"_typename\":\"TAttAxis\",\"fNdivisions\":510,\"fAxisColor\":1,\"fLabelColor\":1,\"fLabelFont\":42,\"fLabelOffset\":0.005,\"fLabelSize\":0.035,\"fTickLength\":0.03,\"fTitleOffset\":1,\"fTitleSize\":0.035,\"fTitleColor\":1,\"fTitleFont\":42},\"fBarWidth\":1,\"fBarOffset\":0,\"fColorModelPS\":0,\"fDrawBorder\":0,\"fOptLogx\":0,\"fOptLogy\":0,\"fOptLogz\":0,\"fOptDate\":0,\"fOptStat\":1111,\"fOptTitle\":1,\"fOptFile\":0,\"fOptFit\":0,\"fShowEventStatus\":0,\"fShowEditor\":0,\"fShowToolBar\":0,\"fNumberContours\":20,\"fAttDate\":{\"_typename\":\"TAttText\",\"fTextAngle\":0,\"fTextSize\":0.025,\"fTextAlign\":11,\"fTextColor\":1,\"fTextFont\":62},\"fDateX\":0.01,\"fDateY\":0.01,\"fEndErrorSize\":2,\"fErrorX\":0.5,\"fFuncColor\":2,\"fFuncStyle\":1,\"fFuncWidth\":2,\"fGridColor\":0,\"fGridStyle\":3,\"fGridWidth\":1,\"fLegendBorderSize\":1,\"fLegendFillColor\":0,\"fLegendFont\":42,\"fLegendTextSize\":0,\"fHatchesLineWidth\":1,\"fHatchesSpacing\":1,\"fFrameFillColor\":0,\"fFrameLineColor\":1,\"fFrameFillStyle\":1001,\"fFrameLineStyle\":1,\"fFrameLineWidth\":1,\"fFrameBorderSize\":1,\"fFrameBorderMode\":0,\"fHistFillColor\":0,\"fHistLineColor\":602,\"fHistFillStyle\":1001,\"fHistLineStyle\":1,\"fHistLineWidth\":1,\"fHistMinimumZero\":false,\"fHistTopMargin\":0.05,\"fCanvasPreferGL\":false,\"fCanvasColor\":0,\"fCanvasBorderSize\":2,\"fCanvasBorderMode\":0,\"fCanvasDefH\":500,\"fCanvasDefW\":700,\"fCanvasDefX\":10,\"fCanvasDefY\":10,\"fPadColor\":0,\"fPadBorderSize\":2,\"fPadBorderMode\":0,\"fPadBottomMargin\":0.1,\"fPadTopMargin\":0.1,\"fPadLeftMargin\":0.1,\"fPadRightMargin\":0.1,\"fPadGridX\":false,\"fPadGridY\":false,\"fPadTickX\":0,\"fPadTickY\":0,\"fPaperSizeX\":20,\"fPaperSizeY\":26,\"fScreenFactor\":1,\"fStatColor\":0,\"fStatTextColor\":1,\"fStatBorderSize\":1,\"fStatFont\":42,\"fStatFontSize\":0,\"fStatStyle\":1001,\"fStatFormat\":\"6.4g\",\"fStatX\":0.98,\"fStatY\":0.935,\"fStatW\":0.2,\"fStatH\":0.16,\"fStripDecimals\":true,\"fTitleAlign\":23,\"fTitleColor\":0,\"fTitleTextColor\":1,\"fTitleBorderSize\":0,\"fTitleFont\":42,\"fTitleFontSize\":0.05,\"fTitleStyle\":0,\"fTitleX\":0.5,\"fTitleY\":0.995,\"fTitleW\":0,\"fTitleH\":0,\"fLegoInnerR\":0.5,\"fLineStyle\":[\"\",\"  \",\" 12 12\",\" 4 8\",\" 12 16 4 16\",\" 20 12 4 12\",\" 20 12 4 12 4 12 4 12\",\" 20 20\",\" 20 12 4 12 4 12\",\" 80 20\",\" 80 40 4 40\",\"  \",\"  \",\"  \",\"  \",\"  \",\"  \",\"  \",\"  \",\"  \",\"  \",\"  \",\"  \",\"  \",\"  \",\"  \",\"  \",\"  \",\"  \",\"  \"],\"fHeaderPS\":\"\",\"fTitlePS\":\"\",\"fFitFormat\":\"5.4g\",\"fPaintTextFormat\":\"g\",\"fLineScalePS\":3,\"fJoinLinePS\":0,\"fCapLinePS\":0,\"fTimeOffset\":788918400,\"fImageScaling\":1}],\"opt\":[\"\",\"COLLZ\",\"blNDC\",\"\"]},\"fExecs\":null,\"fName\":\"newc\",\"fTitle\":\"newc\",\"fNumPaletteColor\":0,\"fNextPaletteColor\":0,\"fDISPLAY\":\"$DISPLAY\",\"fDoubleBuffer\":0,\"fRetained\":true,\"fXsizeUser\":0,\"fYsizeUser\":0,\"fXsizeReal\":20,\"fYsizeReal\":20,\"fWindowTopX\":0,\"fWindowTopY\":0,\"fWindowWidth\":0,\"fWindowHeight\":0,\"fCw\":496,\"fCh\":472,\"fCatt\":{\"_typename\":\"TAttCanvas\",\"fXBetween\":2,\"fYBetween\":2,\"fTitleFromTop\":1.2,\"fXdate\":0.2,\"fYdate\":0.3,\"fAdate\":1},\"kMoveOpaque\":true,\"kResizeOpaque\":true,\"fHighLightColor\":2,\"fBatch\":true,\"kShowEventStatus\":false,\"kAutoExec\":true,\"kMenuBar\":true});\n",
       "   Core.settings.HandleKeys = false;\n",
       "   Core.draw(\"root_plot_1646153886769\", obj, \"\");\n",
       "}\n",
       "\n",
       "function script_load_root_plot_1646153886769(src, on_error) {\n",
       "    let script = document.createElement('script');\n",
       "    script.src = src;\n",
       "    script.onload = function() { display_root_plot_1646153886769(JSROOT); };\n",
       "    script.onerror = function() { script.remove(); on_error(); };\n",
       "    document.head.appendChild(script);\n",
       "}\n",
       "\n",
       "if (typeof requirejs !== 'undefined') {\n",
       "\n",
       "    // We are in jupyter notebooks, use require.js which should be configured already\n",
       "    requirejs.config({\n",
       "       paths: { 'JSRootCore' : [ 'scripts/JSRoot.core', 'https://root.cern/js/6.1.1/scripts/JSRoot.core.min', 'https://jsroot.gsi.de/6.1.1/scripts/JSRoot.core.min' ] }\n",
       "    })(['JSRootCore'],  function(Core) {\n",
       "       display_root_plot_1646153886769(Core);\n",
       "    });\n",
       "\n",
       "} else if (typeof JSROOT !== 'undefined') {\n",
       "\n",
       "   // JSROOT already loaded, just use it\n",
       "   display_root_plot_1646153886769(JSROOT);\n",
       "\n",
       "} else {\n",
       "\n",
       "    // We are in jupyterlab without require.js, directly loading jsroot\n",
       "    // Jupyterlab might be installed in a different base_url so we need to know it.\n",
       "    try {\n",
       "        var base_url = JSON.parse(document.getElementById('jupyter-config-data').innerHTML).baseUrl;\n",
       "    } catch(_) {\n",
       "        var base_url = '/';\n",
       "    }\n",
       "\n",
       "    // Try loading a local version of requirejs and fallback to cdn if not possible.\n",
       "    script_load_root_plot_1646153886769(base_url + 'static/scripts/JSRoot.core.js', function(){\n",
       "        console.error('Fail to load JSROOT locally, please check your jupyter_notebook_config.py file');\n",
       "        script_load_root_plot_1646153886769('https://root.cern/js/6.1.1/scripts/JSRoot.core.min.js', function(){\n",
       "            document.getElementById(\"root_plot_1646153886769\").innerHTML = \"Failed to load JSROOT\";\n",
       "        });\n",
       "    });\n",
       "}\n",
       "\n",
       "</script>\n"
      ],
      "text/plain": [
       "<IPython.core.display.HTML object>"
      ]
     },
     "metadata": {},
     "output_type": "display_data"
    }
   ],
   "source": [
    "gROOT->GetListOfCanvases()->Draw();"
   ]
  },
  {
   "cell_type": "code",
   "execution_count": 2,
   "id": "1e7acfa1",
   "metadata": {},
   "outputs": [
    {
     "name": "stdout",
     "output_type": "stream",
     "text": [
      "(TFile *) nullptr\n"
     ]
    },
    {
     "name": "stderr",
     "output_type": "stream",
     "text": [
      "Error in <TNetXNGFile::Open>: [ERROR] Server responded with an error: [3011] No servers are available to read the file.\n",
      "\n"
     ]
    }
   ],
   "source": [
    "TFile *_file0 = TFile::Open(\"root://cms-xrd-global.cern.ch///store/data/Run2017G/DoubleMuon/AOD/17Nov2017-v1/910000/F287D00B-0F38-E811-8140-00259029ED22.root\")"
   ]
  },
  {
   "cell_type": "code",
   "execution_count": 4,
   "id": "2f6f5779",
   "metadata": {},
   "outputs": [
    {
     "name": "stdout",
     "output_type": "stream",
     "text": [
      "(TFile *) nullptr\n"
     ]
    },
    {
     "name": "stderr",
     "output_type": "stream",
     "text": [
      "Error in <TFile::TFile>: file /store/user/mnguyen//bJet2022/QCD_pThat-15_bJet_TuneCP5_5p02TeV_pythia8/bJet2017G_bjet/220128_135359/merged_HiForestAOD.root does not exist\n"
     ]
    }
   ],
   "source": [
    "TFile *_file0 = TFile::Open(\"/store/user/mnguyen//bJet2022/QCD_pThat-15_bJet_TuneCP5_5p02TeV_pythia8/bJet2017G_bjet/220128_135359/merged_HiForestAOD.root\")"
   ]
  },
  {
   "cell_type": "code",
   "execution_count": 3,
   "id": "67ead2fe",
   "metadata": {},
   "outputs": [
    {
     "name": "stderr",
     "output_type": "stream",
     "text": [
      "input_line_87:2:9: error: no viable conversion from 'TFile' to 'TFile *'\n",
      " TFile *f = TFile(\"/store/user/mnguyen//bJet2022/QCD_pThat-15_bJet_TuneCP5_5p02TeV_pythia8/bJet2017G_bjet/220128_135359/merged_HiForestAOD.root\")\n",
      "        ^   ~~~~~~~~~~~~~~~~~~~~~~~~~~~~~~~~~~~~~~~~~~~~~~~~~~~~~~~~~~~~~~~~~~~~~~~~~~~~~~~~~~~~~~~~~~~~~~~~~~~~~~~~~~~~~~~~~~~~~~~~~~~~~~~~~~~~~\n"
     ]
    }
   ],
   "source": [
    "TFile *f = TFile(\"/store/user/mnguyen//bJet2022/QCD_pThat-15_bJet_TuneCP5_5p02TeV_pythia8/bJet2017G_bjet/220128_135359/merged_HiForestAOD.root\")"
   ]
  },
  {
   "cell_type": "code",
   "execution_count": 5,
   "id": "17eed2f5",
   "metadata": {},
   "outputs": [
    {
     "name": "stdout",
     "output_type": "stream",
     "text": [
      "No credentials found!\r\n",
      "\n"
     ]
    }
   ],
   "source": [
    "!voms-proxy-init --rfc --voms cms -valid 192:00\n"
   ]
  },
  {
   "cell_type": "code",
   "execution_count": 13,
   "id": "4da3e5d4",
   "metadata": {},
   "outputs": [
    {
     "name": "stdout",
     "output_type": "stream",
     "text": [
      "(const char *) \"new file\"\n"
     ]
    }
   ],
   "source": [
    "const char *filename = \"new file\""
   ]
  },
  {
   "cell_type": "code",
   "execution_count": 16,
   "id": "707aa59e",
   "metadata": {},
   "outputs": [
    {
     "name": "stdout",
     "output_type": "stream",
     "text": [
      "(const char *) \"newnew\"\n"
     ]
    }
   ],
   "source": [
    "filename = \"newnew\""
   ]
  },
  {
   "cell_type": "code",
   "execution_count": 17,
   "id": "9b9b3dea",
   "metadata": {},
   "outputs": [
    {
     "name": "stdout",
     "output_type": "stream",
     "text": [
      "newnew(int) 6\n"
     ]
    }
   ],
   "source": [
    "printf(\"%s\", filename)"
   ]
  },
  {
   "cell_type": "code",
   "execution_count": null,
   "id": "89c3bcf2",
   "metadata": {},
   "outputs": [],
   "source": []
  }
 ],
 "metadata": {
  "kernelspec": {
   "display_name": "ROOT C++",
   "language": "c++",
   "name": "root"
  },
  "language_info": {
   "codemirror_mode": "text/x-c++src",
   "file_extension": ".C",
   "mimetype": " text/x-c++src",
   "name": "c++"
  }
 },
 "nbformat": 4,
 "nbformat_minor": 5
}
