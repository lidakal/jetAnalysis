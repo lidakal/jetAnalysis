{
 "cells": [
  {
   "cell_type": "markdown",
   "metadata": {},
   "source": [
    "# Imports"
   ]
  },
  {
   "cell_type": "code",
   "execution_count": 72,
   "metadata": {},
   "outputs": [],
   "source": [
    "from ROOT import TFile, TTree\n",
    "import numpy as np\n",
    "from array import array\n",
    "\n",
    "%jsroot on"
   ]
  },
  {
   "cell_type": "markdown",
   "metadata": {},
   "source": [
    "# Load data"
   ]
  },
  {
   "cell_type": "code",
   "execution_count": 4,
   "metadata": {},
   "outputs": [
    {
     "data": {
      "text/plain": [
       "<ROOT.TFriendElement object (\"hiEvtAnalyzer/HiTree\") at 0xa9f42d0>"
      ]
     },
     "execution_count": 4,
     "metadata": {},
     "output_type": "execute_result"
    }
   ],
   "source": [
    "fin = TFile(\"/data_CMS/cms/kalipoliti/chargedSJ_mergedSVtracks_gen_reco/merged_HiForestAOD.root\")\n",
    "t = fin.Get(\"ak4PFJetAnalyzer/t\")\n",
    "t.AddFriend(\"hiEvtAnalyzer/HiTree\") # to get the evt weight"
   ]
  },
  {
   "cell_type": "code",
   "execution_count": 18,
   "metadata": {},
   "outputs": [
    {
     "name": "stdout",
     "output_type": "stream",
     "text": [
      "======> EVENT:1\n",
      " nref            = 2\n",
      " rawpt           = 32.4949, \n",
      "                  20.732\n",
      " jtpt            = 35.5583, \n",
      "                  23.526\n",
      " jteta           = 0.81085, \n",
      "                  -1.02337\n",
      " jtphi           = 2.76803, \n",
      "                  -0.151324\n",
      " jtHadFlav       = 5, \n",
      "                  0\n",
      " jtParFlav       = -5, \n",
      "                  21\n",
      " jtNbHad         = 1, \n",
      "                  0\n",
      " jtNcHad         = 2, \n",
      "                  0\n",
      " jtNbPar         = 1, \n",
      "                  0\n",
      " jtNcPar         = 0, \n",
      "                  0\n",
      " jtHasGSPB       = 0, \n",
      "                  0\n",
      " jtHasGSPC       = 0, \n",
      "                  0\n",
      " jtIsHardest     = 0, \n",
      "                  0\n",
      " sjt1E           = 29.7446, \n",
      "                  12.2204\n",
      " sjt1Pt          = 21.8163, \n",
      "                  7.6736\n",
      " sjt1Eta         = 0.824327, \n",
      "                  -1.03665\n",
      " sjt1Phi         = 2.7944, \n",
      "                  -0.0854072\n",
      " sjt1HadFlav     = 0, \n",
      "                  0\n",
      " sjt1HadFlav     = 0, \n",
      "                  0\n",
      " sjt2E           = 3.79889, \n",
      "                  3.85908\n",
      " sjt2Pt          = 3.09697, \n",
      "                  2.32528\n",
      " sjt2Eta         = 0.659994, \n",
      "                  -1.08838\n",
      " sjt2Phi         = 2.70801, \n",
      "                  -0.39256\n",
      " sjt2HadFlav     = 0, \n",
      "                  0\n",
      " sjt2HadFlav     = 0, \n",
      "                  0\n",
      " rsjt1E          = 23.8901, \n",
      "                  12.3529\n",
      " rsjt1Pt         = 17.6704, \n",
      "                  7.75093\n",
      " rsjt1Eta        = 0.808283, \n",
      "                  -1.03765\n",
      " rsjt1Phi        = 2.77008, \n",
      "                  -0.0850825\n",
      " rsjt2E          = 0, \n",
      "                  3.86188\n",
      " rsjt2Pt         = -1, \n",
      "                  2.27176\n",
      " rsjt2Eta        = -999, \n",
      "                  -1.11824\n",
      " rsjt2Phi        = -999, \n",
      "                  -0.413766\n",
      " jtDiscCSVV2     = 0.835766, \n",
      "                  0.151797\n",
      " jtDiscDeepCSVB  = 0.638478, \n",
      "                  0.0211277\n",
      " jtDiscDeepCSVBB = 0.013204, \n",
      "                  0.000330745\n",
      " jtDiscDeepCSVC  = 0.34105, \n",
      "                  0.092746\n",
      " jtDiscDeepFlavourB = 0.478461, \n",
      "                  0.0082682\n",
      " jtDiscDeepFlavourBB = 0.0743258, \n",
      "                  0.000229482\n",
      " jtDiscDeepFlavourLEPB = 0.0959622, \n",
      "                  0.000905123\n",
      " jtDiscDeepFlavourC = 0.349144, \n",
      "                  0.0514951\n",
      " jtDiscProb      = 0.366921, \n",
      "                  0.0397041\n",
      " nsvtx           = 1, \n",
      "                  0\n",
      " svtxntrk        = (vector<vector<int> >*)0xaaaba60\n",
      " svtxdls         = (vector<vector<float> >*)0xa9dea80\n",
      " svtxdls2d       = (vector<vector<float> >*)0xaa0d780\n",
      " svtxm           = (vector<vector<float> >*)0xaa2f2e0\n",
      " svtxpt          = (vector<vector<float> >*)0xaa34270\n",
      " svtxmcorr       = (vector<vector<float> >*)0xaf473b0\n",
      " svtxTrPt        = (vector<vector<float> >*)0xaabcf40\n",
      " svtxTrEta       = (vector<vector<float> >*)0xaabd460\n",
      " svtxTrPhi       = (vector<vector<float> >*)0xc5c8cf0\n",
      " nselIPtrk       = 9, \n",
      "                  5\n",
      " nIP             = 14\n",
      " ipPt            = 1.70255, \n",
      "                  2.20471, 5.97006, 3.78054, 3.94073, 3.09697, \n",
      "                  1.18905, 1.35722, 1.72814, 1.64825, 1.8804, \n",
      "                  1.11562, 1.21356, 4.15008\n",
      " ipEta           = 0.816316, \n",
      "                  0.707425, 0.865459, 0.82727, 0.813367, 0.659994, \n",
      "                  0.773693, 0.830707, 0.856768, -1.18393, -1.11796, \n",
      "                  -1.14963, -1.02663, -0.931471\n",
      " ipPhi           = 2.87037, \n",
      "                  2.89899, 2.79706, 2.83139, 2.78341, 2.70801, \n",
      "                  2.79687, 2.62905, 2.64852, -0.0530048, -0.148628, \n",
      "                  -0.33218, -0.44806, -0.0696471\n",
      " ipProb          = 0.627151, \n",
      "                  0.0132879, 0.0674162, -0.0241563, -0.00975013, 0.0259627, \n",
      "                  0.42978, 0.0203522, 0.00829053, 0.354205, 0.926231, \n",
      "                  -0.629241, -0.000353634, -0.770522\n",
      " ip3dSig         = 0.768163, \n",
      "                  5.88253, 2.58045, -4.18482, -7.00103, 4.03602, \n",
      "                  1.07667, 4.26921, 7.29712, 1.29289, 0.319044, \n",
      "                  -0.808865, -38.7528, -0.484507\n",
      " ipPtMatch       = 1.66995, \n",
      "                  6.03226, 6.02727, 35.5025, 3.93545, 3.12361, \n",
      "                  1.19939, 1.34586, 1.74513, 1.70038, 1.89964, \n",
      "                  1.12544, 1.15394, 4.15595\n",
      " ipEtaMatch      = 0.815438, \n",
      "                  0.785477, 0.865259, 0.798805, 0.812707, 0.66037, \n",
      "                  0.77592, 0.82784, 0.853068, -1.18413, -1.11741, \n",
      "                  -1.15046, -1.08051, -0.931315\n",
      " ipPhiMatch      = 2.86893, \n",
      "                  2.85554, 2.79641, 2.81786, 2.78381, 2.70862, \n",
      "                  2.79588, 2.64958, 2.64566, -0.0539604, -0.147513, \n",
      "                  -0.330971, -0.494512, -0.0692956\n",
      " ipMatchStatus   = 1, \n",
      "                  100, 100, 2, 100, 100, 100, 1, 100, 1, 1, \n",
      "                  1, 1, 1\n",
      " refpt           = 40.8469, \n",
      "                  22.6038\n",
      " refeta          = 0.812841, \n",
      "                  -1.04802\n",
      " refphi          = 2.81021, \n",
      "                  -0.181697\n",
      " refdphijt       = -0.0421799, \n",
      "                  0.0303736\n",
      " refdrjt         = 0.0422269, \n",
      "                  0.0391162\n",
      " refparton_pt    = 41.3314, \n",
      "                  41.3314\n",
      " refparton_flavor = -5, \n",
      "                  21\n",
      " refIsHardest    = 0, \n",
      "                  0\n",
      " ngen            = 2\n",
      " genmatchindex   = 0, \n",
      "                  1\n",
      " genpt           = 40.8469, \n",
      "                  22.6038\n",
      " geneta          = 0.812841, \n",
      "                  -1.04802\n",
      " genphi          = 2.81021, \n",
      "                  -0.181697\n",
      " npar            = 2\n",
      " parpt           = 43.8145, \n",
      "                  24.0411\n",
      " pareta          = 0.791874, \n",
      "                  -1.02626\n",
      " parphi          = 2.83224, \n",
      "                  -0.118308\n",
      " parNb           = 1, \n",
      "                  0\n",
      " parNc           = 0, \n",
      "                  0\n",
      " parHasGSPB      = 0, \n",
      "                  0\n",
      " parHasGSPC      = 0, \n",
      "                  0\n",
      " genIsHardest    = 0, \n",
      "                  0\n",
      " gsjt1E          = 23.8901, \n",
      "                  12.3529\n",
      " gsjt1Pt         = 17.6704, \n",
      "                  7.75093\n",
      " gsjt1Eta        = 0.808283, \n",
      "                  -1.03765\n",
      " gsjt1Phi        = 2.77008, \n",
      "                  -0.0850825\n",
      " gsjt2Pt         = -1, \n",
      "                  2.27176\n",
      " gsjt2Eta        = -999, \n",
      "                  -1.11824\n",
      " gsjt2Phi        = -999, \n",
      "                  -0.413766\n",
      " psjt1E          = 54.8527, \n",
      "                  35.5108\n",
      " psjt1Pt         = 40.8582, \n",
      "                  22.6062\n",
      " psjt1Eta        = 0.79992, \n",
      "                  -1.02326\n",
      " psjt1Phi        = 2.82065, \n",
      "                  -0.106986\n",
      " psjt2Pt         = -1, \n",
      "                  -1\n",
      " psjt2Eta        = -999, \n",
      "                  -999\n",
      " psjt2Phi        = -999, \n",
      "                  -999\n"
     ]
    }
   ],
   "source": [
    "t.Show(1)"
   ]
  },
  {
   "cell_type": "code",
   "execution_count": 22,
   "metadata": {},
   "outputs": [
    {
     "name": "stdout",
     "output_type": "stream",
     "text": [
      "0\n",
      "0\n",
      "1\n",
      "1\n"
     ]
    }
   ],
   "source": [
    "t.GetEntry(0)\n",
    "for ijet in range(t.nref):\n",
    "    nsv = t.nsvtx[ijet]\n",
    "    print(nsv)"
   ]
  },
  {
   "cell_type": "code",
   "execution_count": 71,
   "metadata": {},
   "outputs": [
    {
     "name": "stdout",
     "output_type": "stream",
     "text": [
      "[1.4006848 1.4247342 1.370298  1.382599 ]\n",
      "[0.8662487]\n"
     ]
    }
   ],
   "source": [
    "t.GetEntry(213)\n",
    "njet = t.nref\n",
    "l = []\n",
    "for ijet in range(njet):\n",
    "    #l.append(np.array(t.svtxTrEta[ijet]))\n",
    "    nsv = t.nsvtx[ijet]\n",
    "    for isv in range(nsv):\n",
    "        if (t.svtxntrk[ijet][isv] > 0):\n",
    "            print(np.array(t.svtxTrEta[ijet]))\n",
    "#print(np.concatenate(l))"
   ]
  },
  {
   "cell_type": "code",
   "execution_count": 80,
   "metadata": {},
   "outputs": [
    {
     "data": {
      "text/plain": [
       "2"
      ]
     },
     "execution_count": 80,
     "metadata": {},
     "output_type": "execute_result"
    }
   ],
   "source": [
    "sum(x for x in [-1,0,1,2])"
   ]
  },
  {
   "cell_type": "code",
   "execution_count": 105,
   "metadata": {},
   "outputs": [],
   "source": [
    "nSvTrk = sum(ntrk for ntrk in np.ravel(t.svtxntrk) if ntrk > 0)"
   ]
  },
  {
   "cell_type": "code",
   "execution_count": 88,
   "metadata": {},
   "outputs": [
    {
     "data": {
      "text/plain": [
       "5"
      ]
     },
     "execution_count": 88,
     "metadata": {},
     "output_type": "execute_result"
    }
   ],
   "source": [
    "nSvTrk"
   ]
  },
  {
   "cell_type": "code",
   "execution_count": 104,
   "metadata": {},
   "outputs": [
    {
     "data": {
      "text/plain": [
       "<ROOT.vector<vector<int> > object at 0xaaaba60>"
      ]
     },
     "execution_count": 104,
     "metadata": {},
     "output_type": "execute_result"
    }
   ],
   "source": [
    "t.svtxntrk"
   ]
  },
  {
   "cell_type": "code",
   "execution_count": 91,
   "metadata": {},
   "outputs": [
    {
     "data": {
      "text/plain": [
       "array([4, 1, 0], dtype=int32)"
      ]
     },
     "execution_count": 91,
     "metadata": {},
     "output_type": "execute_result"
    }
   ],
   "source": [
    "np.ravel(t.svtxntrk)"
   ]
  },
  {
   "cell_type": "code",
   "execution_count": 77,
   "metadata": {},
   "outputs": [
    {
     "data": {
      "text/plain": [
       "array([5], dtype=int32)"
      ]
     },
     "execution_count": 77,
     "metadata": {},
     "output_type": "execute_result"
    }
   ],
   "source": [
    "x = 0\n",
    "sum(np.array(t.svtxntrk))"
   ]
  },
  {
   "cell_type": "code",
   "execution_count": 97,
   "metadata": {},
   "outputs": [
    {
     "data": {
      "text/plain": [
       "<ROOT.vector<vector<float> > object at 0xaabd460>"
      ]
     },
     "execution_count": 97,
     "metadata": {},
     "output_type": "execute_result"
    }
   ],
   "source": [
    "t.svtxTrEta"
   ]
  },
  {
   "cell_type": "code",
   "execution_count": 95,
   "metadata": {},
   "outputs": [
    {
     "ename": "ValueError",
     "evalue": "setting an array element with a sequence.",
     "output_type": "error",
     "traceback": [
      "\u001b[0;31m---------------------------------------------------------------------------\u001b[0m",
      "\u001b[0;31mValueError\u001b[0m                                Traceback (most recent call last)",
      "\u001b[0;32m<ipython-input-95-a6817582788a>\u001b[0m in \u001b[0;36m<module>\u001b[0;34m\u001b[0m\n\u001b[0;32m----> 1\u001b[0;31m \u001b[0mnp\u001b[0m\u001b[0;34m.\u001b[0m\u001b[0marray\u001b[0m\u001b[0;34m(\u001b[0m\u001b[0mt\u001b[0m\u001b[0;34m.\u001b[0m\u001b[0msvtxTrEta\u001b[0m\u001b[0;34m,\u001b[0m \u001b[0mdtype\u001b[0m \u001b[0;34m=\u001b[0m \u001b[0mfloat\u001b[0m\u001b[0;34m)\u001b[0m\u001b[0;34m\u001b[0m\u001b[0m\n\u001b[0m",
      "\u001b[0;31mValueError\u001b[0m: setting an array element with a sequence."
     ]
    }
   ],
   "source": [
    "np.array(t.svtxTrEta, dtype = float)"
   ]
  },
  {
   "cell_type": "code",
   "execution_count": 93,
   "metadata": {},
   "outputs": [
    {
     "data": {
      "text/plain": [
       "array([<ROOT.vector<float> object at 0x156bb180>,\n",
       "       <ROOT.vector<float> object at 0x156bb198>,\n",
       "       <ROOT.vector<float> object at 0x156bb1b0>], dtype=object)"
      ]
     },
     "execution_count": 93,
     "metadata": {},
     "output_type": "execute_result"
    }
   ],
   "source": [
    "np.ravel(t.svtxTrEta)"
   ]
  },
  {
   "cell_type": "code",
   "execution_count": 115,
   "metadata": {},
   "outputs": [
    {
     "data": {
      "text/plain": [
       "0"
      ]
     },
     "execution_count": 115,
     "metadata": {},
     "output_type": "execute_result"
    }
   ],
   "source": [
    "len(t.svtxTrEta[2])"
   ]
  },
  {
   "cell_type": "code",
   "execution_count": 118,
   "metadata": {},
   "outputs": [
    {
     "data": {
      "text/plain": [
       "array([1.4006848, 1.4247342, 1.370298 , 1.382599 , 0.8662487],\n",
       "      dtype=float32)"
      ]
     },
     "execution_count": 118,
     "metadata": {},
     "output_type": "execute_result"
    }
   ],
   "source": [
    "np.concatenate([np.array(t.svtxTrEta[ijet]) for ijet in range(njet) if (len(t.svtxTrEta[ijet]) > 0)])"
   ]
  },
  {
   "cell_type": "code",
   "execution_count": 62,
   "metadata": {
    "scrolled": true
   },
   "outputs": [
    {
     "ename": "ValueError",
     "evalue": "setting an array element with a sequence.",
     "output_type": "error",
     "traceback": [
      "\u001b[0;31m---------------------------------------------------------------------------\u001b[0m",
      "\u001b[0;31mValueError\u001b[0m                                Traceback (most recent call last)",
      "\u001b[0;32m<ipython-input-62-dfcab6080167>\u001b[0m in \u001b[0;36m<module>\u001b[0;34m\u001b[0m\n\u001b[0;32m----> 1\u001b[0;31m \u001b[0mnp\u001b[0m\u001b[0;34m.\u001b[0m\u001b[0mconcatenate\u001b[0m\u001b[0;34m(\u001b[0m\u001b[0;34m[\u001b[0m\u001b[0mnp\u001b[0m\u001b[0;34m.\u001b[0m\u001b[0marray\u001b[0m\u001b[0;34m(\u001b[0m\u001b[0mt\u001b[0m\u001b[0;34m.\u001b[0m\u001b[0msvtxTrEta\u001b[0m\u001b[0;34m[\u001b[0m\u001b[0mijet\u001b[0m\u001b[0;34m]\u001b[0m\u001b[0;34m)\u001b[0m \u001b[0;32mfor\u001b[0m \u001b[0mijet\u001b[0m \u001b[0;32min\u001b[0m \u001b[0mrange\u001b[0m\u001b[0;34m(\u001b[0m\u001b[0mnjet\u001b[0m\u001b[0;34m)\u001b[0m\u001b[0;34m]\u001b[0m\u001b[0;34m)\u001b[0m\u001b[0;34m\u001b[0m\u001b[0m\n\u001b[0m",
      "\u001b[0;32m<ipython-input-62-dfcab6080167>\u001b[0m in \u001b[0;36m<listcomp>\u001b[0;34m(.0)\u001b[0m\n\u001b[0;32m----> 1\u001b[0;31m \u001b[0mnp\u001b[0m\u001b[0;34m.\u001b[0m\u001b[0mconcatenate\u001b[0m\u001b[0;34m(\u001b[0m\u001b[0;34m[\u001b[0m\u001b[0mnp\u001b[0m\u001b[0;34m.\u001b[0m\u001b[0marray\u001b[0m\u001b[0;34m(\u001b[0m\u001b[0mt\u001b[0m\u001b[0;34m.\u001b[0m\u001b[0msvtxTrEta\u001b[0m\u001b[0;34m[\u001b[0m\u001b[0mijet\u001b[0m\u001b[0;34m]\u001b[0m\u001b[0;34m)\u001b[0m \u001b[0;32mfor\u001b[0m \u001b[0mijet\u001b[0m \u001b[0;32min\u001b[0m \u001b[0mrange\u001b[0m\u001b[0;34m(\u001b[0m\u001b[0mnjet\u001b[0m\u001b[0;34m)\u001b[0m\u001b[0;34m]\u001b[0m\u001b[0;34m)\u001b[0m\u001b[0;34m\u001b[0m\u001b[0m\n\u001b[0m",
      "\u001b[0;31mValueError\u001b[0m: setting an array element with a sequence."
     ]
    }
   ],
   "source": [
    "np.concatenate([np.array(t.svtxTrEta[ijet]) for ijet in range(njet)])"
   ]
  },
  {
   "cell_type": "markdown",
   "metadata": {},
   "source": [
    "# Create histograms"
   ]
  },
  {
   "cell_type": "code",
   "execution_count": 137,
   "metadata": {},
   "outputs": [
    {
     "data": {
      "text/plain": [
       "array([1., 1.])"
      ]
     },
     "execution_count": 137,
     "metadata": {},
     "output_type": "execute_result"
    }
   ],
   "source": [
    "ts = [0,1,1]\n",
    "l = np.concatenate([np.array([ts[i]]) if ts[i]>0 else [] for i in ts])\n",
    "l"
   ]
  },
  {
   "cell_type": "code",
   "execution_count": 135,
   "metadata": {},
   "outputs": [
    {
     "data": {
      "text/plain": [
       "12"
      ]
     },
     "execution_count": 135,
     "metadata": {},
     "output_type": "execute_result"
    }
   ],
   "source": [
    "sum(i if i > 0 else 10 for i in ts)"
   ]
  },
  {
   "cell_type": "code",
   "execution_count": 57,
   "metadata": {},
   "outputs": [],
   "source": [
    "from ROOT import TH1D, TCanvas"
   ]
  },
  {
   "cell_type": "markdown",
   "metadata": {},
   "source": [
    "Count the percentage of tracks coming from B decay products that are associated to a secondary vertex (SV)."
   ]
  },
  {
   "cell_type": "code",
   "execution_count": 74,
   "metadata": {},
   "outputs": [
    {
     "data": {
      "text/plain": [
       "3"
      ]
     },
     "execution_count": 74,
     "metadata": {},
     "output_type": "execute_result"
    }
   ],
   "source": [
    "t.nref"
   ]
  },
  {
   "cell_type": "code",
   "execution_count": null,
   "metadata": {},
   "outputs": [],
   "source": [
    "def flatten(tree, entry, branch):\n",
    "    tree.GetEntry(entry)\n",
    "    nref = tree.nref\n",
    "    \n",
    "    \n",
    "    for ijet in range(nref):\n",
    "        nsv = tree.nsvtx[ijet]\n",
    "        for isv in range(nsv):\n",
    "            if (t.svtxntrk[ijet][isv] > 0):"
   ]
  },
  {
   "cell_type": "code",
   "execution_count": 124,
   "metadata": {},
   "outputs": [
    {
     "ename": "KeyboardInterrupt",
     "evalue": "",
     "output_type": "error",
     "traceback": [
      "\u001b[0;31m---------------------------------------------------------------------------\u001b[0m",
      "\u001b[0;31mKeyboardInterrupt\u001b[0m                         Traceback (most recent call last)",
      "\u001b[0;32m<ipython-input-124-fdfe194deb5f>\u001b[0m in \u001b[0;36m<module>\u001b[0;34m\u001b[0m\n\u001b[1;32m     32\u001b[0m         \u001b[0mtrackFoundInSV\u001b[0m \u001b[0;34m=\u001b[0m \u001b[0;32mFalse\u001b[0m\u001b[0;34m\u001b[0m\u001b[0m\n\u001b[1;32m     33\u001b[0m         \u001b[0msvtxTrEta\u001b[0m \u001b[0;34m=\u001b[0m \u001b[0mnp\u001b[0m\u001b[0;34m.\u001b[0m\u001b[0mconcatenate\u001b[0m\u001b[0;34m(\u001b[0m\u001b[0;34m[\u001b[0m\u001b[0mnp\u001b[0m\u001b[0;34m.\u001b[0m\u001b[0marray\u001b[0m\u001b[0;34m(\u001b[0m\u001b[0mt\u001b[0m\u001b[0;34m.\u001b[0m\u001b[0msvtxTrEta\u001b[0m\u001b[0;34m[\u001b[0m\u001b[0mijet\u001b[0m\u001b[0;34m]\u001b[0m\u001b[0;34m)\u001b[0m \u001b[0;32mfor\u001b[0m \u001b[0mijet\u001b[0m \u001b[0;32min\u001b[0m \u001b[0mrange\u001b[0m\u001b[0;34m(\u001b[0m\u001b[0mt\u001b[0m\u001b[0;34m.\u001b[0m\u001b[0mnref\u001b[0m\u001b[0;34m)\u001b[0m \u001b[0;32mif\u001b[0m \u001b[0;34m(\u001b[0m\u001b[0mlen\u001b[0m\u001b[0;34m(\u001b[0m\u001b[0mt\u001b[0m\u001b[0;34m.\u001b[0m\u001b[0msvtxTrEta\u001b[0m\u001b[0;34m[\u001b[0m\u001b[0mijet\u001b[0m\u001b[0;34m]\u001b[0m\u001b[0;34m)\u001b[0m \u001b[0;34m>\u001b[0m \u001b[0;36m0\u001b[0m\u001b[0;34m)\u001b[0m\u001b[0;34m]\u001b[0m\u001b[0;34m)\u001b[0m\u001b[0;34m\u001b[0m\u001b[0m\n\u001b[0;32m---> 34\u001b[0;31m         \u001b[0msvtxTrPhi\u001b[0m \u001b[0;34m=\u001b[0m \u001b[0mnp\u001b[0m\u001b[0;34m.\u001b[0m\u001b[0mconcatenate\u001b[0m\u001b[0;34m(\u001b[0m\u001b[0;34m[\u001b[0m\u001b[0mnp\u001b[0m\u001b[0;34m.\u001b[0m\u001b[0marray\u001b[0m\u001b[0;34m(\u001b[0m\u001b[0mt\u001b[0m\u001b[0;34m.\u001b[0m\u001b[0msvtxTrPhi\u001b[0m\u001b[0;34m[\u001b[0m\u001b[0mijet\u001b[0m\u001b[0;34m]\u001b[0m\u001b[0;34m)\u001b[0m \u001b[0;32mfor\u001b[0m \u001b[0mijet\u001b[0m \u001b[0;32min\u001b[0m \u001b[0mrange\u001b[0m\u001b[0;34m(\u001b[0m\u001b[0mt\u001b[0m\u001b[0;34m.\u001b[0m\u001b[0mnref\u001b[0m\u001b[0;34m)\u001b[0m \u001b[0;32mif\u001b[0m \u001b[0;34m(\u001b[0m\u001b[0mlen\u001b[0m\u001b[0;34m(\u001b[0m\u001b[0mt\u001b[0m\u001b[0;34m.\u001b[0m\u001b[0msvtxTrPhi\u001b[0m\u001b[0;34m[\u001b[0m\u001b[0mijet\u001b[0m\u001b[0;34m]\u001b[0m\u001b[0;34m)\u001b[0m \u001b[0;34m>\u001b[0m \u001b[0;36m0\u001b[0m\u001b[0;34m)\u001b[0m\u001b[0;34m]\u001b[0m\u001b[0;34m)\u001b[0m\u001b[0;34m\u001b[0m\u001b[0m\n\u001b[0m\u001b[1;32m     35\u001b[0m         \u001b[0;32mfor\u001b[0m \u001b[0msvEta\u001b[0m\u001b[0;34m,\u001b[0m \u001b[0msvPhi\u001b[0m \u001b[0;32min\u001b[0m \u001b[0mzip\u001b[0m\u001b[0;34m(\u001b[0m\u001b[0msvtxTrEta\u001b[0m\u001b[0;34m,\u001b[0m \u001b[0msvtxTrPhi\u001b[0m\u001b[0;34m)\u001b[0m\u001b[0;34m:\u001b[0m\u001b[0;34m\u001b[0m\u001b[0m\n\u001b[1;32m     36\u001b[0m             \u001b[0;32mif\u001b[0m \u001b[0;34m(\u001b[0m\u001b[0;34m(\u001b[0m\u001b[0mt\u001b[0m\u001b[0;34m.\u001b[0m\u001b[0mipEta\u001b[0m\u001b[0;34m[\u001b[0m\u001b[0mitrack\u001b[0m\u001b[0;34m]\u001b[0m \u001b[0;34m-\u001b[0m \u001b[0msvEta\u001b[0m\u001b[0;34m)\u001b[0m \u001b[0;34m>\u001b[0m \u001b[0meps\u001b[0m\u001b[0;34m)\u001b[0m\u001b[0;34m:\u001b[0m\u001b[0;34m\u001b[0m\u001b[0m\n",
      "\u001b[0;32m<ipython-input-124-fdfe194deb5f>\u001b[0m in \u001b[0;36m<listcomp>\u001b[0;34m(.0)\u001b[0m\n\u001b[1;32m     32\u001b[0m         \u001b[0mtrackFoundInSV\u001b[0m \u001b[0;34m=\u001b[0m \u001b[0;32mFalse\u001b[0m\u001b[0;34m\u001b[0m\u001b[0m\n\u001b[1;32m     33\u001b[0m         \u001b[0msvtxTrEta\u001b[0m \u001b[0;34m=\u001b[0m \u001b[0mnp\u001b[0m\u001b[0;34m.\u001b[0m\u001b[0mconcatenate\u001b[0m\u001b[0;34m(\u001b[0m\u001b[0;34m[\u001b[0m\u001b[0mnp\u001b[0m\u001b[0;34m.\u001b[0m\u001b[0marray\u001b[0m\u001b[0;34m(\u001b[0m\u001b[0mt\u001b[0m\u001b[0;34m.\u001b[0m\u001b[0msvtxTrEta\u001b[0m\u001b[0;34m[\u001b[0m\u001b[0mijet\u001b[0m\u001b[0;34m]\u001b[0m\u001b[0;34m)\u001b[0m \u001b[0;32mfor\u001b[0m \u001b[0mijet\u001b[0m \u001b[0;32min\u001b[0m \u001b[0mrange\u001b[0m\u001b[0;34m(\u001b[0m\u001b[0mt\u001b[0m\u001b[0;34m.\u001b[0m\u001b[0mnref\u001b[0m\u001b[0;34m)\u001b[0m \u001b[0;32mif\u001b[0m \u001b[0;34m(\u001b[0m\u001b[0mlen\u001b[0m\u001b[0;34m(\u001b[0m\u001b[0mt\u001b[0m\u001b[0;34m.\u001b[0m\u001b[0msvtxTrEta\u001b[0m\u001b[0;34m[\u001b[0m\u001b[0mijet\u001b[0m\u001b[0;34m]\u001b[0m\u001b[0;34m)\u001b[0m \u001b[0;34m>\u001b[0m \u001b[0;36m0\u001b[0m\u001b[0;34m)\u001b[0m\u001b[0;34m]\u001b[0m\u001b[0;34m)\u001b[0m\u001b[0;34m\u001b[0m\u001b[0m\n\u001b[0;32m---> 34\u001b[0;31m         \u001b[0msvtxTrPhi\u001b[0m \u001b[0;34m=\u001b[0m \u001b[0mnp\u001b[0m\u001b[0;34m.\u001b[0m\u001b[0mconcatenate\u001b[0m\u001b[0;34m(\u001b[0m\u001b[0;34m[\u001b[0m\u001b[0mnp\u001b[0m\u001b[0;34m.\u001b[0m\u001b[0marray\u001b[0m\u001b[0;34m(\u001b[0m\u001b[0mt\u001b[0m\u001b[0;34m.\u001b[0m\u001b[0msvtxTrPhi\u001b[0m\u001b[0;34m[\u001b[0m\u001b[0mijet\u001b[0m\u001b[0;34m]\u001b[0m\u001b[0;34m)\u001b[0m \u001b[0;32mfor\u001b[0m \u001b[0mijet\u001b[0m \u001b[0;32min\u001b[0m \u001b[0mrange\u001b[0m\u001b[0;34m(\u001b[0m\u001b[0mt\u001b[0m\u001b[0;34m.\u001b[0m\u001b[0mnref\u001b[0m\u001b[0;34m)\u001b[0m \u001b[0;32mif\u001b[0m \u001b[0;34m(\u001b[0m\u001b[0mlen\u001b[0m\u001b[0;34m(\u001b[0m\u001b[0mt\u001b[0m\u001b[0;34m.\u001b[0m\u001b[0msvtxTrPhi\u001b[0m\u001b[0;34m[\u001b[0m\u001b[0mijet\u001b[0m\u001b[0;34m]\u001b[0m\u001b[0;34m)\u001b[0m \u001b[0;34m>\u001b[0m \u001b[0;36m0\u001b[0m\u001b[0;34m)\u001b[0m\u001b[0;34m]\u001b[0m\u001b[0;34m)\u001b[0m\u001b[0;34m\u001b[0m\u001b[0m\n\u001b[0m\u001b[1;32m     35\u001b[0m         \u001b[0;32mfor\u001b[0m \u001b[0msvEta\u001b[0m\u001b[0;34m,\u001b[0m \u001b[0msvPhi\u001b[0m \u001b[0;32min\u001b[0m \u001b[0mzip\u001b[0m\u001b[0;34m(\u001b[0m\u001b[0msvtxTrEta\u001b[0m\u001b[0;34m,\u001b[0m \u001b[0msvtxTrPhi\u001b[0m\u001b[0;34m)\u001b[0m\u001b[0;34m:\u001b[0m\u001b[0;34m\u001b[0m\u001b[0m\n\u001b[1;32m     36\u001b[0m             \u001b[0;32mif\u001b[0m \u001b[0;34m(\u001b[0m\u001b[0;34m(\u001b[0m\u001b[0mt\u001b[0m\u001b[0;34m.\u001b[0m\u001b[0mipEta\u001b[0m\u001b[0;34m[\u001b[0m\u001b[0mitrack\u001b[0m\u001b[0;34m]\u001b[0m \u001b[0;34m-\u001b[0m \u001b[0msvEta\u001b[0m\u001b[0;34m)\u001b[0m \u001b[0;34m>\u001b[0m \u001b[0meps\u001b[0m\u001b[0;34m)\u001b[0m\u001b[0;34m:\u001b[0m\u001b[0;34m\u001b[0m\u001b[0m\n",
      "\u001b[0;31mKeyboardInterrupt\u001b[0m: "
     ]
    },
    {
     "name": "stderr",
     "output_type": "stream",
     "text": [
      "Warning in <TFile::Append>: Replacing existing TH1: hsv (Potential memory leak).\n"
     ]
    }
   ],
   "source": [
    "hsv = TH1D(\"hsv\", \"Percentage of tracks from B products associated to any SV per event\", 25, 0, 100)\n",
    "hsv.SetXTitle(\"% b-product tracks in SVs per event\")\n",
    "hsv.SetYTitle(\"nb of events\")\n",
    "\n",
    "nentries = t.GetEntries()\n",
    "\n",
    "for ient in range(nentries):\n",
    "    ient = int(ient)\n",
    "    \n",
    "    # for debugging purposes \n",
    "    if (ient < 30000): \n",
    "        continue\n",
    "    if (ient > 40000):\n",
    "        break\n",
    "    \n",
    "    t.GetEntry(ient)\n",
    "    \n",
    "    bProducts = 0\n",
    "    bProductsInSV = 0\n",
    "    for itrack in range(t.nIP):\n",
    "        itrack = int(itrack)\n",
    "        \n",
    "        # Keep only B decay products\n",
    "        sta = t.ipMatchStatus[itrack]\n",
    "        if (sta < 100): \n",
    "            continue\n",
    "        bProducts += 1\n",
    "        \n",
    "        # Look for track in SV\n",
    "        eps = 1e-3\n",
    "        \n",
    "        trackFoundInSV = False\n",
    "        svtxTrEta = np.concatenate([np.array(t.svtxTrEta[ijet]) for ijet in range(t.nref) if (len(t.svtxTrEta[ijet]) > 0)])\n",
    "        svtxTrPhi = np.concatenate([np.array(t.svtxTrPhi[ijet]) for ijet in range(t.nref) if (len(t.svtxTrPhi[ijet]) > 0)])\n",
    "        for svEta, svPhi in zip(svtxTrEta, svtxTrPhi):\n",
    "            if ((t.ipEta[itrack] - svEta) > eps): \n",
    "                continue\n",
    "            if ((t.ipPhi[itrack] - svPhi) > eps): \n",
    "                continue\n",
    "            trackFoundInSV = True\n",
    "            break\n",
    "            \n",
    "        if trackFoundInSV:\n",
    "            bProductsInSV += 1\n",
    "    perc = -1\n",
    "    if (bProducts > 0):\n",
    "        perc = (bProductsInSV / bProducts) * 100\n",
    "    hsv.Fill(perc, t.weight)       \n",
    "    \n",
    "c = TCanvas(\"c\", \"c\", 800, 800)\n",
    "hsv.Draw(\"hist\")\n",
    "c.Draw()"
   ]
  },
  {
   "cell_type": "code",
   "execution_count": null,
   "metadata": {},
   "outputs": [],
   "source": []
  }
 ],
 "metadata": {
  "kernelspec": {
   "display_name": "Python 3",
   "language": "python",
   "name": "python3"
  },
  "language_info": {
   "codemirror_mode": {
    "name": "ipython",
    "version": 3
   },
   "file_extension": ".py",
   "mimetype": "text/x-python",
   "name": "python",
   "nbconvert_exporter": "python",
   "pygments_lexer": "ipython3",
   "version": "3.7.0"
  }
 },
 "nbformat": 4,
 "nbformat_minor": 5
}
